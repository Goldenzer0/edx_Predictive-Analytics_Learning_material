{
 "cells": [
  {
   "cell_type": "markdown",
   "id": "340ebffa",
   "metadata": {},
   "source": [
    "# Missing values"
   ]
  },
  {
   "cell_type": "markdown",
   "id": "06b68ba6",
   "metadata": {},
   "source": [
    "First, let's import dataset:"
   ]
  },
  {
   "cell_type": "code",
   "execution_count": 1,
   "id": "950ffea0",
   "metadata": {},
   "outputs": [
    {
     "name": "stdout",
     "output_type": "stream",
     "text": [
      "     Amount          Loan type  Age Gender\n",
      "0   50000.0           Mortgage   19      F\n",
      "1    1000.0           Car loan   23      M\n",
      "2   27000.0           Car loan   44      M\n",
      "3  655555.0           Mortgage   45      F\n",
      "4  187666.0           Mortgage   65      F\n",
      "5  165777.0           Mortgage   39    NaN\n",
      "6       NaN           Mortgage   36      F\n",
      "7  145000.0                NaN   27      F\n",
      "8  156899.0           Mortgage   48      F\n",
      "9   15000.0  Short-term credit   55      M\n"
     ]
    }
   ],
   "source": [
    "from sklearn.neighbors import NearestNeighbors as NN\n",
    "import pandas as pd\n",
    "import numpy as np\n",
    "\n",
    "df = pd.read_csv('MV_example.csv')\n",
    "print(df)"
   ]
  },
  {
   "cell_type": "markdown",
   "id": "20515b00",
   "metadata": {},
   "source": [
    "## Dropping NAs"
   ]
  },
  {
   "cell_type": "code",
   "execution_count": 2,
   "id": "81de8452",
   "metadata": {},
   "outputs": [
    {
     "name": "stdout",
     "output_type": "stream",
     "text": [
      "     Amount          Loan type  Age Gender\n",
      "0   50000.0           Mortgage   19      F\n",
      "1    1000.0           Car loan   23      M\n",
      "2   27000.0           Car loan   44      M\n",
      "3  655555.0           Mortgage   45      F\n",
      "4  187666.0           Mortgage   65      F\n",
      "8  156899.0           Mortgage   48      F\n",
      "9   15000.0  Short-term credit   55      M\n"
     ]
    }
   ],
   "source": [
    "print(df.dropna())"
   ]
  },
  {
   "cell_type": "markdown",
   "id": "eea5c6d9",
   "metadata": {},
   "source": [
    "Or you can drop all columns with missing values"
   ]
  },
  {
   "cell_type": "code",
   "execution_count": 3,
   "id": "e3edcbbd",
   "metadata": {},
   "outputs": [
    {
     "data": {
      "text/html": [
       "<div>\n",
       "<style scoped>\n",
       "    .dataframe tbody tr th:only-of-type {\n",
       "        vertical-align: middle;\n",
       "    }\n",
       "\n",
       "    .dataframe tbody tr th {\n",
       "        vertical-align: top;\n",
       "    }\n",
       "\n",
       "    .dataframe thead th {\n",
       "        text-align: right;\n",
       "    }\n",
       "</style>\n",
       "<table border=\"1\" class=\"dataframe\">\n",
       "  <thead>\n",
       "    <tr style=\"text-align: right;\">\n",
       "      <th></th>\n",
       "      <th>Age</th>\n",
       "    </tr>\n",
       "  </thead>\n",
       "  <tbody>\n",
       "    <tr>\n",
       "      <th>0</th>\n",
       "      <td>19</td>\n",
       "    </tr>\n",
       "    <tr>\n",
       "      <th>1</th>\n",
       "      <td>23</td>\n",
       "    </tr>\n",
       "    <tr>\n",
       "      <th>2</th>\n",
       "      <td>44</td>\n",
       "    </tr>\n",
       "    <tr>\n",
       "      <th>3</th>\n",
       "      <td>45</td>\n",
       "    </tr>\n",
       "    <tr>\n",
       "      <th>4</th>\n",
       "      <td>65</td>\n",
       "    </tr>\n",
       "    <tr>\n",
       "      <th>5</th>\n",
       "      <td>39</td>\n",
       "    </tr>\n",
       "    <tr>\n",
       "      <th>6</th>\n",
       "      <td>36</td>\n",
       "    </tr>\n",
       "    <tr>\n",
       "      <th>7</th>\n",
       "      <td>27</td>\n",
       "    </tr>\n",
       "    <tr>\n",
       "      <th>8</th>\n",
       "      <td>48</td>\n",
       "    </tr>\n",
       "    <tr>\n",
       "      <th>9</th>\n",
       "      <td>55</td>\n",
       "    </tr>\n",
       "  </tbody>\n",
       "</table>\n",
       "</div>"
      ],
      "text/plain": [
       "   Age\n",
       "0   19\n",
       "1   23\n",
       "2   44\n",
       "3   45\n",
       "4   65\n",
       "5   39\n",
       "6   36\n",
       "7   27\n",
       "8   48\n",
       "9   55"
      ]
     },
     "execution_count": 3,
     "metadata": {},
     "output_type": "execute_result"
    }
   ],
   "source": [
    "df.dropna(axis=1)"
   ]
  },
  {
   "cell_type": "markdown",
   "id": "2bc6066e",
   "metadata": {},
   "source": [
    "A quick fix for filling all NaNs with the average is the following:"
   ]
  },
  {
   "cell_type": "code",
   "execution_count": 4,
   "id": "a4a5c0c1",
   "metadata": {},
   "outputs": [
    {
     "name": "stdout",
     "output_type": "stream",
     "text": [
      "Mean:  155988.55555555556 Median:  145000.0\n",
      "0     50000.000000\n",
      "1      1000.000000\n",
      "2     27000.000000\n",
      "3    655555.000000\n",
      "4    187666.000000\n",
      "5    165777.000000\n",
      "6    155988.555556\n",
      "7    145000.000000\n",
      "8    156899.000000\n",
      "9     15000.000000\n",
      "Name: Amount, dtype: float64\n",
      "0     50000.0\n",
      "1      1000.0\n",
      "2     27000.0\n",
      "3    655555.0\n",
      "4    187666.0\n",
      "5    165777.0\n",
      "6    145000.0\n",
      "7    145000.0\n",
      "8    156899.0\n",
      "9     15000.0\n",
      "Name: Amount, dtype: float64\n"
     ]
    }
   ],
   "source": [
    "#We use nanmean and nanmedian instead of mean and median to ignore NaNs\n",
    "\n",
    "mean = np.nanmean(df['Amount'])\n",
    "median = np.nanmedian(df['Amount'])\n",
    "print('Mean: ',mean, 'Median: ',median)\n",
    "\n",
    "print(df['Amount'].fillna(mean))\n",
    "print(df['Amount'].fillna(median))"
   ]
  },
  {
   "cell_type": "markdown",
   "id": "0e44fffd",
   "metadata": {},
   "source": [
    "## Nearest neighbour imputation"
   ]
  },
  {
   "cell_type": "markdown",
   "id": "8375ec6b",
   "metadata": {},
   "source": [
    "Now let's use the nearest neighbour algorithm to find the best replacements for missing values:"
   ]
  },
  {
   "cell_type": "code",
   "execution_count": 5,
   "id": "3ce95d5e",
   "metadata": {},
   "outputs": [
    {
     "name": "stdout",
     "output_type": "stream",
     "text": [
      "   Age  cat_Mortgage  cat_Short-term credit  cat_M\n",
      "0   19             1                      0      0\n",
      "1   23             0                      0      1\n",
      "2   44             0                      0      1\n",
      "3   45             1                      0      0\n",
      "4   65             1                      0      0\n",
      "8   48             1                      0      0\n",
      "9   55             0                      1      1\n"
     ]
    }
   ],
   "source": [
    "# Let's first try for observation 6 (counting from 0), which misses the amount\n",
    "X = df.loc[:,df.columns != 'Amount']\n",
    "\n",
    "# Convert the categorical variables\n",
    "X = pd.get_dummies(X, prefix='cat', drop_first=True)\n",
    "\n",
    "#Store 6 separately\n",
    "x_6 = X.loc[6,:]\n",
    "\n",
    "#Store the others without the other observations missing values (5 (6) and 7 (8))\n",
    "X = X.loc[[0,1,2,3,4,8,9],:]\n",
    "\n",
    "print(X)"
   ]
  },
  {
   "cell_type": "code",
   "execution_count": 6,
   "id": "f46a1801",
   "metadata": {},
   "outputs": [
    {
     "name": "stdout",
     "output_type": "stream",
     "text": [
      "Age                      36\n",
      "cat_Mortgage              1\n",
      "cat_Short-term credit     0\n",
      "cat_M                     0\n",
      "Name: 6, dtype: int64\n"
     ]
    }
   ],
   "source": [
    "print(x_6)"
   ]
  },
  {
   "cell_type": "markdown",
   "id": "e878931a",
   "metadata": {},
   "source": [
    "You can adapt this code in a number of ways to automate the filling of NaNs. However, it might sometimes prove tricky, and the index system is not very convenient."
   ]
  },
  {
   "cell_type": "code",
   "execution_count": 8,
   "id": "6fcc7e8c",
   "metadata": {},
   "outputs": [
    {
     "name": "stdout",
     "output_type": "stream",
     "text": [
      "[[ 8.1240384  9.        12.       ]]\n",
      "[[2 3 5]]\n",
      "279818.0\n"
     ]
    }
   ],
   "source": [
    "# The amount values are stored separately so we can use them later\n",
    "y= df.loc[[0,1,2,3,4,8,9], df.columns=='Amount']\n",
    "\n",
    "# Fit the three nearest neighbour on the data and use it on observation 6\n",
    "nbrs = NN(n_neighbors= 3, algorithm='auto').fit(X)\n",
    "distances, indices = nbrs.kneighbors(np.reshape(x_6.values,(1,-1)))\n",
    "\n",
    "# The distances to the three closest observations\n",
    "print(distances)\n",
    "\n",
    "# The indices - note that they are starting at 0 and don't omit 5, 6, and 7 like our big dataset\n",
    "# map: 0 - 0, 1 - 1, 2 - 2, 3 - 3, 4 - 4, 5 - 8, 6 - 9\n",
    "# Hence, observation 5 is actually observation 8 in our big dataset\n",
    "print(indices)\n",
    "\n",
    "print(np.mean(y.loc[[2,3,8],'Amount']))"
   ]
  }
 ],
 "metadata": {
  "kernelspec": {
   "display_name": "Python 3",
   "language": "python",
   "name": "python3"
  },
  "language_info": {
   "codemirror_mode": {
    "name": "ipython",
    "version": 3
   },
   "file_extension": ".py",
   "mimetype": "text/x-python",
   "name": "python",
   "nbconvert_exporter": "python",
   "pygments_lexer": "ipython3",
   "version": "3.8.5"
  }
 },
 "nbformat": 4,
 "nbformat_minor": 5
}
