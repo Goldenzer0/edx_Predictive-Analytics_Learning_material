{
 "cells": [
  {
   "cell_type": "markdown",
   "id": "6e3c939e",
   "metadata": {},
   "source": [
    "## Finetuning your linear equations"
   ]
  },
  {
   "cell_type": "markdown",
   "id": "1115d810",
   "metadata": {},
   "source": [
    "This time, we will use some extra points to illustrate how quickly our initial thoughts on the models we create may change. Again, you need to come up with linear equations, which you can finetune using the evaluation procedure below."
   ]
  },
  {
   "cell_type": "code",
   "execution_count": 1,
   "id": "f2d2297f",
   "metadata": {},
   "outputs": [
    {
     "data": {
      "image/png": "[encoded data removed]",
      "text/plain": [
       "<Figure size 432x288 with 1 Axes>"
      ]
     },
     "metadata": {
      "needs_background": "light"
     },
     "output_type": "display_data"
    }
   ],
   "source": [
    "%matplotlib inline\n",
    "\n",
    "import numpy as np\n",
    "import matplotlib.pyplot as plt\n",
    "\n",
    "x = np.array(range(0,11))\n",
    "\n",
    "#extra datapoints with extra lists\n",
    "##### added line to ensure plots are showing\n",
    "%matplotlib inline\n",
    "#####\n",
    "\n",
    "import numpy as np\n",
    "import matplotlib.pyplot as plt\n",
    "\n",
    "# Use this code if you need large figures (on high-resolution screens)\n",
    "# plt.rcParams[\"figure.dpi\"] = 144\n",
    "\n",
    "# Again, x is used for plotting\n",
    "x = np.array(range(0,11))\n",
    "\n",
    "# Now we have extra datapoints with two extra lists\n",
    "x_1 = [3,8,3,4,1,7,5,3,8,2]\n",
    "x_extra = [10,8,10,10,9,8,10,6,7,6]\n",
    "y_1 = [7,3,1,6,10,10,3,6,5,10]\n",
    "y_extra = [10,9,8,2,1,3,1,1,2,2]\n",
    "\n",
    "# Make a scatter plot and overlay with our equations\n",
    "plt.scatter(x_1,y_1,c='red')\n",
    "plt.scatter(x_extra,y_extra,c='blue')\n",
    "\n",
    "# Set the axes limits\n",
    "plt.axis([0, 11, 0, 11])\n",
    "plt.show()\n",
    "\n",
    "# Add all points together\n",
    "x_1.extend(x_extra)\n",
    "y_1.extend(y_extra)"
   ]
  },
  {
   "cell_type": "code",
   "execution_count": 2,
   "id": "38d43298",
   "metadata": {},
   "outputs": [],
   "source": [
    "a_values = [0.1, 0.8, 3]\n",
    "b_values = [2,1.2,0]"
   ]
  },
  {
   "cell_type": "code",
   "execution_count": 4,
   "id": "6239cae9",
   "metadata": {},
   "outputs": [
    {
     "data": {
      "image/png": "[encoded data removed]",
      "text/plain": [
       "<Figure size 432x288 with 1 Axes>"
      ]
     },
     "metadata": {
      "needs_background": "light"
     },
     "output_type": "display_data"
    }
   ],
   "source": [
    "plt.scatter(x_1, y_1, c='orange')\n",
    "marker = ['b-','r-', 'g-']\n",
    "for i in range(0,len(a_values)):\n",
    "    plt.plot(x, x*a_values[i]+b_values[i], marker[i])\n",
    "    \n",
    "plt.axis([0, 11, 0, 11])\n",
    "plt.show()"
   ]
  },
  {
   "cell_type": "code",
   "execution_count": 8,
   "id": "324ecd2e",
   "metadata": {},
   "outputs": [
    {
     "name": "stdout",
     "output_type": "stream",
     "text": [
      "Model 0 MAE: 3.2699999999999996\n",
      "Model 0 RMSE: 4.222558466143483\n",
      "Model 0 MAPE : 74.45992063492064\n",
      "\n",
      "\n",
      "Model 1 MAE: 4.12\n",
      "Model 1 RMSE: 4.735820942561068\n",
      "Model 1 MAPE : 194.48968253968255\n",
      "\n",
      "\n",
      "Model 2 MAE: 15.3\n",
      "Model 2 RMSE: 17.323394586512194\n",
      "Model 2 MAPE : 718.5119047619048\n",
      "\n",
      "\n"
     ]
    }
   ],
   "source": [
    "from sklearn.metrics import mean_absolute_error as mae\n",
    "from math import sqrt\n",
    "from sklearn.metrics import mean_squared_error as mse\n",
    "\n",
    "for i in range(0, len(a_values)):\n",
    "    a = a_values[i]\n",
    "    b = b_values[i]\n",
    "    \n",
    "    y_hat = []\n",
    "    for x in x_1:\n",
    "        y_hat.append(x*a+b)\n",
    "        \n",
    "    pe = []\n",
    "    for j in range(0, len(y_1)):\n",
    "        pe_j = (y_1[j] - y_hat[j])/y_1[j]*100\n",
    "        pe.append(abs(pe_j))\n",
    "    mape = np.average(pe)\n",
    "    \n",
    "    print('Model ' +str(i)+' MAE: ' + str(mae(y_1, y_hat)))\n",
    "    print('Model ' +str(i)+' RMSE: '+str(sqrt(mse(y_1, y_hat))))\n",
    "    print('Model '+str(i)+' MAPE : '+ str(mape))\n",
    "    print('\\n')"
   ]
  },
  {
   "cell_type": "code",
   "execution_count": null,
   "id": "ccaac0d3",
   "metadata": {},
   "outputs": [],
   "source": []
  }
 ],
 "metadata": {
  "kernelspec": {
   "display_name": "Python 3",
   "language": "python",
   "name": "python3"
  },
  "language_info": {
   "codemirror_mode": {
    "name": "ipython",
    "version": 3
   },
   "file_extension": ".py",
   "mimetype": "text/x-python",
   "name": "python",
   "nbconvert_exporter": "python",
   "pygments_lexer": "ipython3",
   "version": "3.8.5"
  }
 },
 "nbformat": 4,
 "nbformat_minor": 5
}
