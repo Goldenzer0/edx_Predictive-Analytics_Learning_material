{
 "cells": [
  {
   "cell_type": "markdown",
   "metadata": {},
   "source": [
    "# Bootstrap"
   ]
  },
  {
   "cell_type": "markdown",
   "metadata": {
    "deletable": false,
    "editable": false,
    "nbgrader": {
     "grade": false,
     "locked": true,
     "solution": false
    }
   },
   "source": [
    "Bootstrapping is not supported in scikit-learn anymore. There are other techniques we can use, and other sampling methods in the cross-validation function. A common one is addressed below."
   ]
  },
  {
   "cell_type": "markdown",
   "metadata": {},
   "source": [
    "## The data"
   ]
  },
  {
   "cell_type": "markdown",
   "metadata": {
    "deletable": false,
    "editable": false,
    "nbgrader": {
     "grade": false,
     "locked": true,
     "solution": false
    }
   },
   "source": [
    "First, loading data again:"
   ]
  },
  {
   "cell_type": "code",
   "execution_count": 4,
   "metadata": {
    "deletable": false,
    "editable": false,
    "nbgrader": {
     "grade": false,
     "locked": true,
     "solution": false
    }
   },
   "outputs": [],
   "source": [
    "import numpy as np\n",
    "from sklearn.model_selection import train_test_split\n",
    "from sklearn.datasets import make_classification\n",
    "from sklearn.linear_model import LogisticRegression\n",
    "\n",
    "classifier = LogisticRegression(solver='liblinear')\n",
    "\n",
    "X,y = make_classification(n_samples=20, n_features=10,\n",
    "                               n_informative=2, n_redundant=0, n_repeated=0,\n",
    "                               n_classes=2,\n",
    "                               n_clusters_per_class=1,\n",
    "                               weights=(0.7,0.3),\n",
    "                               class_sep=0.99, random_state=14)\n",
    "\n",
    "\n",
    "# You already know about training and test splits:\n",
    "X_train, X_test, y_train, y_test = train_test_split(\n",
    "        X, y, test_size=0.3, random_state=42)"
   ]
  },
  {
   "cell_type": "code",
   "execution_count": 5,
   "metadata": {},
   "outputs": [
    {
     "data": {
      "text/plain": [
       "array([[-1.11633638, -0.13351048,  1.04829099, -0.46575996, -0.72766708,\n",
       "         0.91304983, -0.93545142,  0.42757826, -0.29281364,  0.15777203],\n",
       "       [-0.85622801, -0.72284241, -0.07385389, -0.44489146, -0.56010883,\n",
       "         1.14506528,  0.32430639,  0.64581032, -1.38411962, -0.64943309],\n",
       "       [-0.78693101, -0.20734668,  0.26283227, -0.25192131, -0.71594518,\n",
       "         1.1833141 ,  0.36252151, -0.0571729 ,  1.47373936,  1.73949625],\n",
       "       [-0.97246664, -0.98894727, -1.09472842, -0.01372335, -1.02233934,\n",
       "         1.0218492 ,  0.09881028,  0.06351657,  0.32060564, -0.66158096],\n",
       "       [-1.43134338,  0.84392356,  0.4221067 , -1.23712238,  0.69796872,\n",
       "         0.50854392,  0.14364655,  1.27049168, -1.45193896, -0.29468653],\n",
       "       [ 0.63184683,  0.22916528, -1.33947353, -0.34866842,  0.38542667,\n",
       "        -0.14618963,  0.01712358, -0.13739208,  0.85666441,  0.11689612],\n",
       "       [ 1.1400525 , -0.98631525,  1.34915239,  1.33973859, -0.0054752 ,\n",
       "        -1.3641906 ,  1.38574576,  0.47089321,  1.56038949, -0.04902304],\n",
       "       [-0.72766323,  0.24577394,  0.47386962, -0.03447593, -2.21546288,\n",
       "         1.29338998,  1.07991453, -1.12280548, -1.54513853,  1.1076557 ],\n",
       "       [-1.31040684,  0.18331009, -0.73951863,  0.57708829,  0.75335225,\n",
       "         0.61306636, -1.19011986, -1.22502922,  1.01682484,  1.01064402],\n",
       "       [-0.39669646,  0.68191502, -0.28387251,  1.08088071,  1.5771967 ,\n",
       "         1.56662019,  0.62055782, -0.43859778, -1.61959267, -0.36303116],\n",
       "       [ 0.2099382 ,  1.23812908,  0.49299319,  0.53465522, -0.78994176,\n",
       "         0.3078172 , -0.0755686 ,  2.07533151,  0.0584018 ,  0.80815906],\n",
       "       [-1.00932657, -1.32722064, -1.12449896, -1.29875887,  0.30011968,\n",
       "         0.94007841, -1.38054173, -0.08395599,  1.84865244,  0.65764186],\n",
       "       [-0.22099623,  2.00283285,  0.91603453, -1.41092384,  0.82475784,\n",
       "         0.17421965, -1.49069243, -1.40239901, -1.33396916, -0.32038301],\n",
       "       [ 0.46769479,  0.5013921 , -1.61748701, -0.96482033, -0.55202612,\n",
       "        -0.20550476,  0.15990727,  0.50412909,  0.48689433,  0.16651087],\n",
       "       [ 2.43462151,  0.61711246,  1.29598769, -1.31900107,  1.52569351,\n",
       "        -2.50313835,  0.58299155,  1.25149319, -2.98675624, -0.1283678 ],\n",
       "       [-0.2252614 ,  1.13245013,  0.09577776, -2.19093603,  0.40368612,\n",
       "         1.77652367,  0.29927877,  1.04392193, -0.19186586, -2.8614671 ],\n",
       "       [-1.30821262,  0.22662144,  0.06820722, -2.56185425, -1.5728437 ,\n",
       "         0.66670235, -0.60685447, -1.2656705 ,  0.34540582,  0.262347  ],\n",
       "       [-1.2673204 , -0.58377123,  1.08355838, -0.69109869, -0.41684717,\n",
       "         0.7078243 , -1.54001199,  1.49629237,  0.96702739, -0.77560685],\n",
       "       [-1.75603867,  1.49568359,  0.92410473, -0.89445765, -1.68669956,\n",
       "         0.21323885, -1.30172083, -1.04504271,  2.01904696,  2.01059528],\n",
       "       [-1.56572767,  2.07418534,  0.35177223,  0.43270738,  1.33196085,\n",
       "         0.40873898, -0.02677967,  0.09692962,  0.44538406, -0.05723761]])"
      ]
     },
     "execution_count": 5,
     "metadata": {},
     "output_type": "execute_result"
    }
   ],
   "source": [
    "X"
   ]
  },
  {
   "cell_type": "markdown",
   "metadata": {},
   "source": [
    "## The ShuffleSplit function"
   ]
  },
  {
   "cell_type": "markdown",
   "metadata": {
    "deletable": false,
    "editable": false,
    "nbgrader": {
     "grade": false,
     "locked": true,
     "solution": false
    }
   },
   "source": [
    "Now let's look at said function. ShuffleSplit is performing cross-validation, but shuffles the data after each iteration to avoid a deterministic training and test set. Hence, some training and test sets have overlapping instances:"
   ]
  },
  {
   "cell_type": "code",
   "execution_count": 8,
   "metadata": {},
   "outputs": [
    {
     "name": "stdout",
     "output_type": "stream",
     "text": [
      "Training indices: [13  2 14  8 17 16 19 12 11  1  0 15  4  9] Test indices: [ 7 10  5  6  3 18]\n",
      "Training indices: [ 7 16 18 12  5  6  3 17 14  4  8  1 19 11] Test indices: [ 2  0  9 10 15 13]\n",
      "Training indices: [ 3 17  1 15  7  6  0  2  9  8 10 11 13 18] Test indices: [ 5 16 19 12 14  4]\n",
      "Training indices: [18 16  9 14 13  6 19  2 15  8  7  4  5 12] Test indices: [ 1  3  0 17 10 11]\n",
      "Training indices: [ 7 14 18  2  1 11  9 13 10  8 12 15 17  0] Test indices: [ 3  4  6 16 19  5]\n",
      "Training indices: [ 7 11 10 17  0  9  5  2  1  3 15 14 16 18] Test indices: [ 4 19 12 13  6  8]\n",
      "Training indices: [ 3  2 12 10  6  4 18  9  5 15  0 16 19 17] Test indices: [ 1  8 11  7 14 13]\n",
      "Training indices: [10  0  8 14 15  5  6  3  1 18 19 16 11 13] Test indices: [ 4 17  2 12  7  9]\n",
      "Training indices: [11  3 12  7  4 15  9 17  5  1 14 13 19  8] Test indices: [10  2 16  6 18  0]\n",
      "Training indices: [ 5 13  3 18 12 16  1  2  9 17 10 14  6  4] Test indices: [ 0  7 15 11 19  8]\n"
     ]
    }
   ],
   "source": [
    "from sklearn.model_selection import ShuffleSplit \n",
    "from sklearn.model_selection import cross_validate\n",
    "\n",
    "metrics = ['accuracy']\n",
    "ss = ShuffleSplit(n_splits = 10, test_size=0.3, random_state=10)\n",
    "\n",
    "# Printing the indices:\n",
    "for train_index, test_index in ss.split(X):\n",
    "    print(\"Training indices:\", train_index, \"Test indices:\", test_index)"
   ]
  },
  {
   "cell_type": "code",
   "execution_count": 10,
   "metadata": {},
   "outputs": [
    {
     "ename": "ImportError",
     "evalue": "cannot import name 'cross_validation' from 'sklearn' (C:\\Users\\leo_w\\anaconda3\\lib\\site-packages\\sklearn\\__init__.py)",
     "output_type": "error",
     "traceback": [
      "\u001b[1;31m---------------------------------------------------------------------------\u001b[0m",
      "\u001b[1;31mImportError\u001b[0m                               Traceback (most recent call last)",
      "\u001b[1;32m<ipython-input-10-db52bfc03b30>\u001b[0m in \u001b[0;36m<module>\u001b[1;34m\u001b[0m\n\u001b[1;32m----> 1\u001b[1;33m \u001b[1;32mfrom\u001b[0m \u001b[0msklearn\u001b[0m \u001b[1;32mimport\u001b[0m \u001b[0mcross_validation\u001b[0m\u001b[1;33m\u001b[0m\u001b[1;33m\u001b[0m\u001b[0m\n\u001b[0m\u001b[0;32m      2\u001b[0m \u001b[0mbs\u001b[0m \u001b[1;33m=\u001b[0m \u001b[0mcross_validation\u001b[0m\u001b[1;33m.\u001b[0m\u001b[0mBootstrap\u001b[0m\u001b[1;33m(\u001b[0m\u001b[0mn_bootstraps\u001b[0m\u001b[1;33m=\u001b[0m\u001b[1;36m10\u001b[0m\u001b[1;33m,\u001b[0m \u001b[0mtest_size\u001b[0m\u001b[1;33m=\u001b[0m\u001b[1;36m0.3\u001b[0m\u001b[1;33m,\u001b[0m \u001b[0mrandom_state\u001b[0m\u001b[1;33m=\u001b[0m\u001b[1;36m10\u001b[0m\u001b[1;33m)\u001b[0m\u001b[1;33m\u001b[0m\u001b[1;33m\u001b[0m\u001b[0m\n\u001b[0;32m      3\u001b[0m \u001b[1;32mfor\u001b[0m \u001b[0mtrain_index\u001b[0m\u001b[1;33m,\u001b[0m \u001b[0mtest_index\u001b[0m \u001b[1;32min\u001b[0m \u001b[0mbs\u001b[0m\u001b[1;33m:\u001b[0m\u001b[1;33m\u001b[0m\u001b[1;33m\u001b[0m\u001b[0m\n\u001b[0;32m      4\u001b[0m     \u001b[0mprint\u001b[0m\u001b[1;33m(\u001b[0m\u001b[1;34m\"Training indices:\"\u001b[0m\u001b[1;33m,\u001b[0m \u001b[0mtrain_index\u001b[0m\u001b[1;33m,\u001b[0m \u001b[1;34m\"Test indices:\"\u001b[0m\u001b[1;33m,\u001b[0m \u001b[0mtest_index\u001b[0m\u001b[1;33m)\u001b[0m\u001b[1;33m\u001b[0m\u001b[1;33m\u001b[0m\u001b[0m\n",
      "\u001b[1;31mImportError\u001b[0m: cannot import name 'cross_validation' from 'sklearn' (C:\\Users\\leo_w\\anaconda3\\lib\\site-packages\\sklearn\\__init__.py)"
     ]
    }
   ],
   "source": [
    "from sklearn import cross_validation\n",
    "bs = cross_validation.Bootstrap(n_bootstraps=10, test_size=0.3, random_state=10)\n",
    "for train_index, test_index in bs:\n",
    "    print(\"Training indices:\", train_index, \"Test indices:\", test_index)"
   ]
  },
  {
   "cell_type": "code",
   "execution_count": 7,
   "metadata": {},
   "outputs": [
    {
     "name": "stdout",
     "output_type": "stream",
     "text": [
      "\n",
      "Metrics: \n",
      "fit_time value: [0.01284528 0.00229001 0.00200796 0.0011816  0.00099897 0.00100136\n",
      " 0.00107646 0.00099754 0.0009582  0.00096202]\n",
      "score_time value: [0.00306463 0.00095654 0.00132871 0.00099397 0.00100112 0.00099611\n",
      " 0.0009675  0.0009985  0.0010426  0.0010612 ]\n",
      "test_accuracy value: [0.8 0.6 0.8 1.  0.6 0.6 0.4 0.6 0.8 0.6]\n"
     ]
    }
   ],
   "source": [
    "print(\"\\nMetrics: \")\n",
    "outcomes = cross_validate(classifier, X_train, y_train, scoring=metrics, cv=ss, return_train_score=False)\n",
    "for metric in outcomes.keys():\n",
    "    print(metric+\" value: \"+str(outcomes[metric]))"
   ]
  },
  {
   "cell_type": "markdown",
   "metadata": {
    "deletable": false,
    "editable": false,
    "nbgrader": {
     "grade": false,
     "locked": true,
     "solution": false
    }
   },
   "source": [
    "Notice how some samples are returning in the test sets."
   ]
  },
  {
   "cell_type": "markdown",
   "metadata": {},
   "source": [
    "## Stratified shuffling"
   ]
  },
  {
   "cell_type": "markdown",
   "metadata": {
    "deletable": false,
    "editable": false,
    "nbgrader": {
     "grade": false,
     "locked": true,
     "solution": false
    }
   },
   "source": [
    "A stratified version exists as well:"
   ]
  },
  {
   "cell_type": "code",
   "execution_count": 4,
   "metadata": {},
   "outputs": [
    {
     "name": "stdout",
     "output_type": "stream",
     "text": [
      "fit_time value: [0.00055051 0.00058889 0.00043964 0.00036931 0.00030208 0.00030017\n",
      " 0.00029993 0.00032496 0.00030494 0.00030375]\n",
      "score_time value: [0.00025678 0.0002501  0.00034833 0.00021386 0.00019121 0.00018954\n",
      " 0.00019073 0.00019264 0.00018954 0.00018835]\n",
      "test_accuracy value: [0.8 0.6 0.8 0.8 1.  0.8 0.6 0.6 0.8 0.8]\n"
     ]
    }
   ],
   "source": [
    "from sklearn.model_selection import StratifiedShuffleSplit\n",
    "\n",
    "metrics = ['accuracy']\n",
    "ss = StratifiedShuffleSplit(n_splits = 10, test_size=0.3)\n",
    "\n",
    "outcomes = cross_validate(classifier, X_train, y_train, scoring=metrics, cv=ss, return_train_score=False)\n",
    "\n",
    "for metric in outcomes.keys():\n",
    "    print(metric+\" value: \"+str(outcomes[metric]))"
   ]
  }
 ],
 "metadata": {
  "kernelspec": {
   "display_name": "Python 3",
   "language": "python",
   "name": "python3"
  },
  "language_info": {
   "codemirror_mode": {
    "name": "ipython",
    "version": 3
   },
   "file_extension": ".py",
   "mimetype": "text/x-python",
   "name": "python",
   "nbconvert_exporter": "python",
   "pygments_lexer": "ipython3",
   "version": "3.8.5"
  }
 },
 "nbformat": 4,
 "nbformat_minor": 2
}
