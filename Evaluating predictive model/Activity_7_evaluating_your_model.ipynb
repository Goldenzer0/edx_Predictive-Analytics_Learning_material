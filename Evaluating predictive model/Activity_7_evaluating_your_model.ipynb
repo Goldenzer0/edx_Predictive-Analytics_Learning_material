{
 "cells": [
  {
   "cell_type": "markdown",
   "metadata": {},
   "source": [
    "## Evaluating your model"
   ]
  },
  {
   "cell_type": "markdown",
   "metadata": {
    "deletable": false,
    "editable": false,
    "nbgrader": {
     "grade": false,
     "locked": true,
     "solution": false
    }
   },
   "source": [
    "We are now going to discover the impact of using the same model over different datasets (rather than different models over the same dataset) to calculate our evaluation metrics."
   ]
  },
  {
   "cell_type": "markdown",
   "metadata": {
    "deletable": false,
    "editable": false,
    "nbgrader": {
     "grade": false,
     "locked": true,
     "solution": false
    }
   },
   "source": [
    "First, let's introduce some packages and code to calculate our evaluation metrics:"
   ]
  },
  {
   "cell_type": "code",
   "execution_count": 1,
   "metadata": {
    "collapsed": true,
    "deletable": false,
    "editable": false,
    "nbgrader": {
     "grade": false,
     "locked": true,
     "solution": false
    }
   },
   "outputs": [],
   "source": [
    "##### added line to ensure plots are showing\n",
    "%matplotlib inline\n",
    "#####\n",
    "\n",
    "import numpy as np\n",
    "import matplotlib.pyplot as plt\n",
    "from sklearn.metrics import mean_absolute_error as mae  \n",
    "from math import sqrt\n",
    "from sklearn.metrics import mean_squared_error as mse \n",
    "\n",
    "# The calculations we use for the evaluation calculations\n",
    "from sklearn.metrics import mean_absolute_error as mae  \n",
    "from math import sqrt\n",
    "from sklearn.metrics import mean_squared_error as mse \n",
    "\n",
    "def calculate_evaluation_measures(x,y,a,b):\n",
    "    y_hat = []\n",
    "    for x_i in x: \n",
    "        y_hat.append(x_i*a+b)\n",
    "\n",
    "    pe = []\n",
    "    for j in range(0,len(y)):\n",
    "        pe_j = (y[j]-y_hat[j])/y[j]*100\n",
    "        pe.append(abs(pe_j))    \n",
    "    mape = np.average(pe)\n",
    "\n",
    "    print('Model MAE : ' + str(mae(y,y_hat)))\n",
    "    print('Model RMSE : '+ str(sqrt(mse(y,y_hat))))\n",
    "    print('Model MAPE : '+ str(mape))"
   ]
  },
  {
   "cell_type": "markdown",
   "metadata": {
    "deletable": false,
    "editable": false,
    "nbgrader": {
     "grade": false,
     "locked": true,
     "solution": false
    }
   },
   "source": [
    "Now, let's introduce the data we are going to be using:"
   ]
  },
  {
   "cell_type": "markdown",
   "metadata": {},
   "source": [
    "## Dataset 1"
   ]
  },
  {
   "cell_type": "code",
   "execution_count": 2,
   "metadata": {
    "deletable": false,
    "editable": false,
    "nbgrader": {
     "grade": false,
     "locked": true,
     "solution": false
    }
   },
   "outputs": [
    {
     "data": {
      "image/png": "[encoded data removed]",
      "text/plain": [
       "<Figure size 432x288 with 1 Axes>"
      ]
     },
     "metadata": {},
     "output_type": "display_data"
    },
    {
     "name": "stdout",
     "output_type": "stream",
     "text": [
      "Model MAE : 3.6\n",
      "Model RMSE : 4.018706259482023\n",
      "Model MAPE : 151.79166666666669\n"
     ]
    }
   ],
   "source": [
    "# _o stands for 'original'\n",
    "x_o = np.array([3,8,3,4,1,7,5,3,8,2,10,8,10,10,9,8,10,6,7,6])\n",
    "y_o = np.array([7,3,1,6,10,10,3,6,5,10,10,9,8,2,1,3,1,1,2,2])\n",
    "\n",
    "# Make a scatter plot and overlay with our equations\n",
    "plt.scatter(x_o,y_o,c='green')\n",
    "\n",
    "# Fix the a and b parameters\n",
    "a=0.5\n",
    "b=2\n",
    "\n",
    "# Set the axes limits\n",
    "plt.axis([0, 11, 0, 11])\n",
    "x = np.array(range(0,12))\n",
    "plt.plot(x,x*a+b,'b-')\n",
    "plt.show()\n",
    "\n",
    "calculate_evaluation_measures(x_o,y_o,a,b)"
   ]
  },
  {
   "cell_type": "markdown",
   "metadata": {},
   "source": [
    "## Dataset 2"
   ]
  },
  {
   "cell_type": "markdown",
   "metadata": {
    "deletable": false,
    "editable": false,
    "nbgrader": {
     "grade": false,
     "locked": true,
     "solution": false
    }
   },
   "source": [
    "Let's try the same approach, but using different data, to calculate our evaluation metrics. Both the blue and red points are evaluated, each churning out different results:"
   ]
  },
  {
   "cell_type": "code",
   "execution_count": 3,
   "metadata": {},
   "outputs": [
    {
     "data": {
      "image/png": "[encoded data removed]",
      "text/plain": [
       "<Figure size 432x288 with 1 Axes>"
      ]
     },
     "metadata": {},
     "output_type": "display_data"
    },
    {
     "name": "stdout",
     "output_type": "stream",
     "text": [
      "Evaluation 1: \n",
      "Model MAE : 3.8636363636363638\n",
      "Model RMSE : 4.1587804156332355\n",
      "Model MAPE : 179.84848484848484\n",
      "Evaluation 2: \n",
      "Model MAE : 3.2777777777777777\n",
      "Model RMSE : 3.840572873934304\n",
      "Model MAPE : 117.5\n"
     ]
    }
   ],
   "source": [
    "# Try one:\n",
    "x_1 = x_o[0:6]\n",
    "x_1 = np.append(x_1, x_o[15:])\n",
    "\n",
    "y_1 = y_o[0:6]\n",
    "y_1 = np.append(y_1, y_o[15:])\n",
    "\n",
    "x_2 = x_o[6:15]\n",
    "y_2 = y_o[6:15]\n",
    "\n",
    "plt.scatter(x_1,y_1,c='red')\n",
    "plt.scatter(x_2,y_2,c='blue')\n",
    "plt.axis([0, 11, 0, 11])\n",
    "plt.plot(x,x*a+b,'b-')\n",
    "plt.show()\n",
    "\n",
    "print('Evaluation 1: ')\n",
    "calculate_evaluation_measures(x_1,y_1,a,b)\n",
    "print('Evaluation 2: ')\n",
    "calculate_evaluation_measures(x_2,y_2,a,b)"
   ]
  },
  {
   "cell_type": "markdown",
   "metadata": {
    "deletable": false,
    "editable": false,
    "nbgrader": {
     "grade": false,
     "locked": true,
     "solution": false
    }
   },
   "source": [
    "Notice how they are both still relatively similar. They are also similar to the full datasets. That is because they are picked relavitely randomly, and are both quite representative of the original dataset. The MAPE is lower for both, and the blue set has quite a low MAE/RMSE. "
   ]
  },
  {
   "cell_type": "markdown",
   "metadata": {},
   "source": [
    "## Dataset 3"
   ]
  },
  {
   "cell_type": "markdown",
   "metadata": {},
   "source": [
    "Let's try another example:"
   ]
  },
  {
   "cell_type": "code",
   "execution_count": 4,
   "metadata": {
    "nbgrader": {
     "grade": false,
     "locked": false,
     "solution": false
    }
   },
   "outputs": [
    {
     "data": {
      "image/png": "[encoded data removed]",
      "text/plain": [
       "<Figure size 432x288 with 1 Axes>"
      ]
     },
     "metadata": {},
     "output_type": "display_data"
    },
    {
     "name": "stdout",
     "output_type": "stream",
     "text": [
      "Evaluation 1: \n",
      "Model MAE : 3.5\n",
      "Model RMSE : 3.834650630050338\n",
      "Model MAPE : 174.16666666666669\n",
      "Evaluation 2: \n",
      "Model MAE : 3.7222222222222223\n",
      "Model RMSE : 4.232808366400098\n",
      "Model MAPE : 124.44444444444444\n"
     ]
    }
   ],
   "source": [
    "# Try two:\n",
    "x_1 = x_o[x_o>6]\n",
    "y_1 = y_o[x_o>6]\n",
    "\n",
    "x_2 = x_o[x_o<=6]\n",
    "y_2 = y_o[x_o<=6]\n",
    "\n",
    "plt.scatter(x_1,y_1,c='red')\n",
    "plt.scatter(x_2,y_2,c='blue')\n",
    "plt.axis([0, 11, 0, 11])\n",
    "plt.plot(x,x*a+b,'b-')\n",
    "plt.show()\n",
    "\n",
    "print('Evaluation 1: ')\n",
    "calculate_evaluation_measures(x_1,y_1,a,b)\n",
    "print('Evaluation 2: ')\n",
    "calculate_evaluation_measures(x_2,y_2,a,b)"
   ]
  },
  {
   "cell_type": "markdown",
   "metadata": {
    "deletable": false,
    "editable": false,
    "nbgrader": {
     "grade": false,
     "locked": true,
     "solution": false
    }
   },
   "source": [
    "Again, the evaluation is quite in line with the original dataset's results. "
   ]
  },
  {
   "cell_type": "markdown",
   "metadata": {},
   "source": [
    "## Dataset 4"
   ]
  },
  {
   "cell_type": "markdown",
   "metadata": {},
   "source": [
    "Let's try another one:"
   ]
  },
  {
   "cell_type": "code",
   "execution_count": 5,
   "metadata": {
    "nbgrader": {
     "grade": false,
     "locked": false,
     "solution": false
    }
   },
   "outputs": [
    {
     "data": {
      "image/png": "[encoded data removed]",
      "text/plain": [
       "<Figure size 432x288 with 1 Axes>"
      ]
     },
     "metadata": {},
     "output_type": "display_data"
    },
    {
     "name": "stdout",
     "output_type": "stream",
     "text": [
      "Evaluation 1: \n",
      "Model MAE : 4.214285714285714\n",
      "Model RMSE : 4.732109164300539\n",
      "Model MAPE : 45.11904761904761\n",
      "Evaluation 2: \n",
      "Model MAE : 3.269230769230769\n",
      "Model RMSE : 3.5760958514085632\n",
      "Model MAPE : 209.23076923076923\n"
     ]
    }
   ],
   "source": [
    "# Try three:\n",
    "x_1 = x_o[y_o>6]\n",
    "y_1 = y_o[y_o>6]\n",
    "\n",
    "x_2 = x_o[y_o<=6]\n",
    "y_2 = y_o[y_o<=6]\n",
    "\n",
    "plt.scatter(x_1,y_1,c='red')\n",
    "plt.scatter(x_2,y_2,c='blue')\n",
    "plt.axis([0, 11, 0, 11])\n",
    "plt.plot(x,x*a+b,'b-')\n",
    "plt.show()\n",
    "\n",
    "print('Evaluation 1: ')\n",
    "calculate_evaluation_measures(x_1,y_1,a,b)\n",
    "print('Evaluation 2: ')\n",
    "calculate_evaluation_measures(x_2,y_2,a,b)"
   ]
  },
  {
   "cell_type": "markdown",
   "metadata": {
    "deletable": false,
    "editable": false,
    "nbgrader": {
     "grade": false,
     "locked": true,
     "solution": false
    }
   },
   "source": [
    "In this example, the error measures seem to go up quite significantly for the red in terms of MAE/RMSE, and go down for the blue. The MAPE sees the opposite effect. The metrics vary quite drastically. This shows that using different parts of the data tells you different things. We need to be careful to pay attention to this when we use a certain part for training a model, and another part for testing how it is performing."
   ]
  },
  {
   "cell_type": "markdown",
   "metadata": {},
   "source": [
    "## Your experimentation"
   ]
  },
  {
   "cell_type": "markdown",
   "metadata": {
    "deletable": false,
    "editable": false,
    "nbgrader": {
     "grade": false,
     "locked": true,
     "solution": false
    }
   },
   "source": [
    "Now it is up to you to experiment. Try to select two times two sets of datapoints (non-overlapping) that will give you a representative set of the whole dataset. Try to make both subsets of the original dataset as close to the performance metrics we saw at the beginning:"
   ]
  },
  {
   "cell_type": "markdown",
   "metadata": {},
   "source": [
    "### Attempt 1"
   ]
  },
  {
   "cell_type": "code",
   "execution_count": 6,
   "metadata": {},
   "outputs": [
    {
     "data": {
      "image/png": "[encoded data removed]",
      "text/plain": [
       "<Figure size 432x288 with 1 Axes>"
      ]
     },
     "metadata": {},
     "output_type": "display_data"
    },
    {
     "name": "stdout",
     "output_type": "stream",
     "text": [
      "Model MAE : 0.5\n",
      "Model RMSE : 0.5\n",
      "Model MAPE : 10.0\n",
      "Model MAE : 1.0\n",
      "Model RMSE : 1.0\n",
      "Model MAPE : 16.666666666666664\n"
     ]
    }
   ],
   "source": [
    "# Your first attempt:\n",
    "x_a = [5]\n",
    "y_a = [5]\n",
    "\n",
    "x_b = [6]\n",
    "y_b = [6]\n",
    "\n",
    "plt.scatter(x_a,y_a,c='red')\n",
    "plt.scatter(x_b,y_b,c='blue')\n",
    "plt.axis([0, 11, 0, 11])\n",
    "plt.plot(x,x*a+b,'b-')\n",
    "plt.show()\n",
    "\n",
    "calculate_evaluation_measures(x_a,y_a,a,b)\n",
    "calculate_evaluation_measures(x_b,y_b,a,b)"
   ]
  },
  {
   "cell_type": "markdown",
   "metadata": {},
   "source": [
    "### Attempt 2"
   ]
  },
  {
   "cell_type": "code",
   "execution_count": 7,
   "metadata": {},
   "outputs": [
    {
     "data": {
      "image/png": "[encoded data removed]",
      "text/plain": [
       "<Figure size 432x288 with 1 Axes>"
      ]
     },
     "metadata": {},
     "output_type": "display_data"
    },
    {
     "name": "stdout",
     "output_type": "stream",
     "text": [
      "Model MAE : 0.5\n",
      "Model RMSE : 0.5\n",
      "Model MAPE : 10.0\n",
      "Model MAE : 1.0\n",
      "Model RMSE : 1.0\n",
      "Model MAPE : 16.666666666666664\n"
     ]
    }
   ],
   "source": [
    "# Your second attempt:\n",
    "x_a = [5]\n",
    "y_a = [5]\n",
    "\n",
    "x_b = [6]\n",
    "y_b = [6]\n",
    "\n",
    "plt.scatter(x_a,y_a,c='red')\n",
    "plt.scatter(x_b,y_b,c='blue')\n",
    "plt.axis([0, 11, 0, 11])\n",
    "plt.plot(x,x*a+b,'b-')\n",
    "plt.show()\n",
    "\n",
    "calculate_evaluation_measures(x_a,y_a,a,b)\n",
    "calculate_evaluation_measures(x_b,y_b,a,b)"
   ]
  },
  {
   "cell_type": "code",
   "execution_count": null,
   "metadata": {
    "collapsed": true
   },
   "outputs": [],
   "source": []
  }
 ],
 "metadata": {
  "kernelspec": {
   "display_name": "Python 3",
   "language": "python",
   "name": "python3"
  },
  "language_info": {
   "codemirror_mode": {
    "name": "ipython",
    "version": 3
   },
   "file_extension": ".py",
   "mimetype": "text/x-python",
   "name": "python",
   "nbconvert_exporter": "python",
   "pygments_lexer": "ipython3",
   "version": "3.8.5"
  }
 },
 "nbformat": 4,
 "nbformat_minor": 2
}
