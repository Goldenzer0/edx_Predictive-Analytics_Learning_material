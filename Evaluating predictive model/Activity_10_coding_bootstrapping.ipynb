{
 "cells": [
  {
   "cell_type": "markdown",
   "metadata": {},
   "source": [
    "# Coding bootstrapping yourself"
   ]
  },
  {
   "cell_type": "markdown",
   "metadata": {
    "deletable": false,
    "editable": false,
    "nbgrader": {
     "grade": false,
     "locked": true,
     "solution": false
    }
   },
   "source": [
    "In this activity, you will look for the difference between K-fold and other cross-validated sampling:"
   ]
  },
  {
   "cell_type": "markdown",
   "metadata": {},
   "source": [
    "## The dataset"
   ]
  },
  {
   "cell_type": "code",
   "execution_count": 1,
   "metadata": {
    "deletable": false,
    "editable": false,
    "nbgrader": {
     "grade": false,
     "locked": true,
     "solution": false
    }
   },
   "outputs": [],
   "source": [
    "##### added line to ensure plots are showing\n",
    "%matplotlib inline\n",
    "#####\n",
    "\n",
    "import numpy as np\n",
    "import matplotlib.pyplot as plt\n",
    "import pandas as pd\n",
    "from sklearn import datasets\n",
    "\n",
    "np.random.seed(10)\n",
    "\n",
    "data = datasets.load_wine()\n",
    "X = data['data']\n",
    "y = data['target']\n",
    "\n",
    "## Print the info if needed\n",
    "#print(data['DESCR'])"
   ]
  },
  {
   "cell_type": "markdown",
   "metadata": {},
   "source": [
    "## Creating a shuffled cross validation"
   ]
  },
  {
   "cell_type": "markdown",
   "metadata": {
    "deletable": false,
    "editable": false,
    "nbgrader": {
     "grade": false,
     "locked": true,
     "solution": false
    }
   },
   "source": [
    "Create a function that either uses K-Fold, or shuffled cross-validation (use a test-size of 30% with the shuffled variant and set the random state to 10!):"
   ]
  },
  {
   "cell_type": "code",
   "execution_count": 4,
   "metadata": {
    "nbgrader": {
     "grade": false,
     "grade_id": "cell-58a58506c6747f2c",
     "locked": false,
     "schema_version": 1,
     "solution": true
    }
   },
   "outputs": [],
   "source": [
    "from sklearn.linear_model import LogisticRegression\n",
    "classifier = LogisticRegression(solver='liblinear',multi_class='auto')    \n",
    "    \n",
    "def apply_cv(X, y, nFold, test_size, shuffled):   \n",
    "    # Your output should be a cross_validate() object\n",
    "    from sklearn.pipeline import make_pipeline\n",
    "    from sklearn.model_selection import cross_validate\n",
    "    from sklearn.model_selection import ShuffleSplit, KFold\n",
    "    \n",
    "    # Make a pipeline with the classifier\n",
    "    pipeline = make_pipeline(classifier)\n",
    "\n",
    "    # Add the accuracy as the metric\n",
    "    metrics = ['accuracy']\n",
    "    \n",
    "    # Set up a validation scheme according to the parameter\n",
    "    if shuffled:\n",
    "        cv = ShuffleSplit(n_splits = nFold, test_size=0.3, random_state=10)\n",
    "    else:\n",
    "        cv = KFold(n_splits= nFold)\n",
    "    \n",
    "    # Add the scheme, metrics, and pipeline to the cross validation\n",
    "    outcomes = cross_validate(pipeline, X, y, scoring=metrics, cv= cv, return_train_score=False)    \n",
    "    ### END SOLUTION\n",
    "    \n",
    "    return outcomes['test_accuracy']"
   ]
  },
  {
   "cell_type": "markdown",
   "metadata": {
    "deletable": false,
    "editable": false,
    "nbgrader": {
     "grade": false,
     "locked": true,
     "solution": false
    }
   },
   "source": [
    "Validate your results:"
   ]
  },
  {
   "cell_type": "code",
   "execution_count": 5,
   "metadata": {
    "deletable": false,
    "editable": false,
    "nbgrader": {
     "grade": true,
     "grade_id": "verify_cv",
     "locked": true,
     "points": "5",
     "schema_version": 1,
     "solution": false
    }
   },
   "outputs": [],
   "source": [
    "assert np.allclose(apply_cv(X, y, 10, 0.3, True),[0.87037037, 0.96296296, 0.98148148, 0.96296296, 0.88888889,\n",
    "       0.96296296, 0.94444444, 0.90740741, 0.87037037, 0.94444444])\n",
    "assert np.allclose(apply_cv(X, y, 10, 0.3, False),[0.94444444, 0.88888889, 1.        , 0.83333333, 0.88888889,\n",
    "       1.        , 1.        , 0.88888889, 1.        , 1.        ])\n",
    "\n",
    "\n",
    "###\n",
    "### AUTOGRADER TEST - DO NOT REMOVE\n",
    "###\n"
   ]
  },
  {
   "cell_type": "markdown",
   "metadata": {},
   "source": [
    "## Visualisation"
   ]
  },
  {
   "cell_type": "code",
   "execution_count": 6,
   "metadata": {
    "deletable": false,
    "editable": false,
    "nbgrader": {
     "grade": false,
     "locked": true,
     "solution": false
    }
   },
   "outputs": [
    {
     "data": {
      "image/png": "[encoded data removed]",
      "text/plain": [
       "<Figure size 432x288 with 1 Axes>"
      ]
     },
     "metadata": {
      "needs_background": "light"
     },
     "output_type": "display_data"
    },
    {
     "data": {
      "image/png": "[encoded data removed]",
      "text/plain": [
       "<Figure size 432x288 with 1 Axes>"
      ]
     },
     "metadata": {
      "needs_background": "light"
     },
     "output_type": "display_data"
    }
   ],
   "source": [
    "for n_fold in [5,10]:\n",
    "    plt.scatter(range(1,n_fold+1),apply_cv(X, y, n_fold, 0.3, True),color='blue')\n",
    "    plt.scatter(range(1,n_fold+1),apply_cv(X, y, n_fold, 0.3, False),color='red')\n",
    "    plt.xlabel(\"Fold\")\n",
    "    plt.ylabel(\"Accuracy\")\n",
    "    plt.show()"
   ]
  },
  {
   "cell_type": "markdown",
   "metadata": {
    "deletable": false,
    "editable": false,
    "nbgrader": {
     "grade": false,
     "locked": true,
     "solution": false
    }
   },
   "source": [
    "What can you learn by looking at these graphs? You will be discussing this in the next activity with your peers."
   ]
  }
 ],
 "metadata": {
  "celltoolbar": "Create Assignment",
  "kernelspec": {
   "display_name": "Python 3",
   "language": "python",
   "name": "python3"
  },
  "language_info": {
   "codemirror_mode": {
    "name": "ipython",
    "version": 3
   },
   "file_extension": ".py",
   "mimetype": "text/x-python",
   "name": "python",
   "nbconvert_exporter": "python",
   "pygments_lexer": "ipython3",
   "version": "3.8.5"
  }
 },
 "nbformat": 4,
 "nbformat_minor": 2
}
