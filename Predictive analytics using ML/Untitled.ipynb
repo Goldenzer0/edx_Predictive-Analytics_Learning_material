{
 "cells": [
  {
   "cell_type": "code",
   "execution_count": 1,
   "id": "98ef176c",
   "metadata": {},
   "outputs": [],
   "source": [
    "import pandas as pd\n",
    "import numpy as np\n",
    "from sklearn.datasets import load_diabetes\n",
    "from sklearn.preprocessing import StandardScaler\n",
    "\n",
    "dataset = load_diabetes()\n",
    "\n",
    "X = pd.DataFrame(data=dataset['data'], columns=dataset['feature_names'])\n",
    "\n",
    "X = StandardScaler().fit_transform(X)\n",
    "\n",
    "y= pd.DataFrame(dataset['target'], columns=['progression'])"
   ]
  },
  {
   "cell_type": "code",
   "execution_count": 2,
   "id": "3232390b",
   "metadata": {
    "scrolled": true
   },
   "outputs": [
    {
     "data": {
      "text/plain": [
       "array([[ 0.80050009,  1.06548848,  1.29708846, ..., -0.05449919,\n",
       "         0.41855058, -0.37098854],\n",
       "       [-0.03956713, -0.93853666, -1.08218016, ..., -0.83030083,\n",
       "        -1.43655059, -1.93847913],\n",
       "       [ 1.79330681,  1.06548848,  0.93453324, ..., -0.05449919,\n",
       "         0.06020733, -0.54515416],\n",
       "       ...,\n",
       "       [ 0.87686984,  1.06548848, -0.33441002, ..., -0.23293356,\n",
       "        -0.98558469,  0.32567395],\n",
       "       [-0.9560041 , -0.93853666,  0.82123474, ...,  0.55838411,\n",
       "         0.93615545, -0.54515416],\n",
       "       [-0.9560041 , -0.93853666, -1.53537419, ..., -0.83030083,\n",
       "        -0.08871747,  0.06442552]])"
      ]
     },
     "execution_count": 2,
     "metadata": {},
     "output_type": "execute_result"
    }
   ],
   "source": [
    "X"
   ]
  },
  {
   "cell_type": "code",
   "execution_count": 3,
   "id": "42bbd255",
   "metadata": {},
   "outputs": [
    {
     "data": {
      "text/plain": [
       "(442, 10)"
      ]
     },
     "execution_count": 3,
     "metadata": {},
     "output_type": "execute_result"
    }
   ],
   "source": [
    "X.shape"
   ]
  },
  {
   "cell_type": "code",
   "execution_count": 4,
   "id": "bc73ad04",
   "metadata": {
    "scrolled": true
   },
   "outputs": [
    {
     "data": {
      "text/html": [
       "<div>\n",
       "<style scoped>\n",
       "    .dataframe tbody tr th:only-of-type {\n",
       "        vertical-align: middle;\n",
       "    }\n",
       "\n",
       "    .dataframe tbody tr th {\n",
       "        vertical-align: top;\n",
       "    }\n",
       "\n",
       "    .dataframe thead th {\n",
       "        text-align: right;\n",
       "    }\n",
       "</style>\n",
       "<table border=\"1\" class=\"dataframe\">\n",
       "  <thead>\n",
       "    <tr style=\"text-align: right;\">\n",
       "      <th></th>\n",
       "      <th>progression</th>\n",
       "    </tr>\n",
       "  </thead>\n",
       "  <tbody>\n",
       "    <tr>\n",
       "      <th>0</th>\n",
       "      <td>151.0</td>\n",
       "    </tr>\n",
       "    <tr>\n",
       "      <th>1</th>\n",
       "      <td>75.0</td>\n",
       "    </tr>\n",
       "    <tr>\n",
       "      <th>2</th>\n",
       "      <td>141.0</td>\n",
       "    </tr>\n",
       "    <tr>\n",
       "      <th>3</th>\n",
       "      <td>206.0</td>\n",
       "    </tr>\n",
       "    <tr>\n",
       "      <th>4</th>\n",
       "      <td>135.0</td>\n",
       "    </tr>\n",
       "    <tr>\n",
       "      <th>...</th>\n",
       "      <td>...</td>\n",
       "    </tr>\n",
       "    <tr>\n",
       "      <th>437</th>\n",
       "      <td>178.0</td>\n",
       "    </tr>\n",
       "    <tr>\n",
       "      <th>438</th>\n",
       "      <td>104.0</td>\n",
       "    </tr>\n",
       "    <tr>\n",
       "      <th>439</th>\n",
       "      <td>132.0</td>\n",
       "    </tr>\n",
       "    <tr>\n",
       "      <th>440</th>\n",
       "      <td>220.0</td>\n",
       "    </tr>\n",
       "    <tr>\n",
       "      <th>441</th>\n",
       "      <td>57.0</td>\n",
       "    </tr>\n",
       "  </tbody>\n",
       "</table>\n",
       "<p>442 rows × 1 columns</p>\n",
       "</div>"
      ],
      "text/plain": [
       "     progression\n",
       "0          151.0\n",
       "1           75.0\n",
       "2          141.0\n",
       "3          206.0\n",
       "4          135.0\n",
       "..           ...\n",
       "437        178.0\n",
       "438        104.0\n",
       "439        132.0\n",
       "440        220.0\n",
       "441         57.0\n",
       "\n",
       "[442 rows x 1 columns]"
      ]
     },
     "execution_count": 4,
     "metadata": {},
     "output_type": "execute_result"
    }
   ],
   "source": [
    "y"
   ]
  },
  {
   "cell_type": "code",
   "execution_count": 5,
   "id": "3c0e6a58",
   "metadata": {},
   "outputs": [],
   "source": [
    "from sklearn.model_selection import train_test_split\n",
    "\n",
    "X_train, X_test, y_train, y_test = train_test_split(X, y, test_size=0.3)"
   ]
  },
  {
   "cell_type": "code",
   "execution_count": 6,
   "id": "45092577",
   "metadata": {},
   "outputs": [
    {
     "name": "stdout",
     "output_type": "stream",
     "text": [
      "Model: \"sequential\"\n",
      "_________________________________________________________________\n",
      "Layer (type)                 Output Shape              Param #   \n",
      "=================================================================\n",
      "dense (Dense)                (None, 50)                550       \n",
      "_________________________________________________________________\n",
      "dense_1 (Dense)              (None, 1)                 51        \n",
      "=================================================================\n",
      "Total params: 601\n",
      "Trainable params: 601\n",
      "Non-trainable params: 0\n",
      "_________________________________________________________________\n",
      "Epoch 1/10\n",
      "10/10 [==============================] - 0s 1ms/step - loss: 29262.3555 - mean_squared_error: 29262.3555\n",
      "Epoch 2/10\n",
      "10/10 [==============================] - 0s 2ms/step - loss: 29184.3906 - mean_squared_error: 29184.3906\n",
      "Epoch 3/10\n",
      "10/10 [==============================] - 0s 1ms/step - loss: 29105.2324 - mean_squared_error: 29105.2324\n",
      "Epoch 4/10\n",
      "10/10 [==============================] - 0s 1ms/step - loss: 29027.3340 - mean_squared_error: 29027.3340\n",
      "Epoch 5/10\n",
      "10/10 [==============================] - 0s 1ms/step - loss: 28944.5469 - mean_squared_error: 28944.5469\n",
      "Epoch 6/10\n",
      "10/10 [==============================] - 0s 1ms/step - loss: 28853.9902 - mean_squared_error: 28853.9902\n",
      "Epoch 7/10\n",
      "10/10 [==============================] - 0s 1ms/step - loss: 28755.2695 - mean_squared_error: 28755.2695\n",
      "Epoch 8/10\n",
      "10/10 [==============================] - 0s 1ms/step - loss: 28656.1836 - mean_squared_error: 28656.1836\n",
      "Epoch 9/10\n",
      "10/10 [==============================] - 0s 1ms/step - loss: 28537.6055 - mean_squared_error: 28537.6055\n",
      "Epoch 10/10\n",
      "10/10 [==============================] - 0s 1ms/step - loss: 28415.6172 - mean_squared_error: 28415.6172\n",
      "RMSE:  167.14275469614194\n"
     ]
    }
   ],
   "source": [
    "from keras.models import Sequential\n",
    "from keras.layers.core import Dense, Activation\n",
    "from sklearn.metrics import mean_squared_error as mse\n",
    "from tensorflow.keras.optimizers import RMSprop, Adam, SGD\n",
    "\n",
    "input_dim = X_train.shape[1]\n",
    "output_dim =1\n",
    "\n",
    "model = Sequential()\n",
    "model.add(Dense(50, input_dim=input_dim))\n",
    "model.add(Dense(output_dim))\n",
    "model.compile(optimizer=Adam(), loss='mean_squared_error', metrics=['mean_squared_error'])\n",
    "\n",
    "model.summary()\n",
    "model.fit(X_train, y_train, epochs=10)\n",
    "\n",
    "prediction = model.predict(X_test)\n",
    "\n",
    "print('RMSE: ', np.sqrt(mse(y_test, prediction)))"
   ]
  },
  {
   "cell_type": "code",
   "execution_count": 7,
   "id": "cefac2af",
   "metadata": {},
   "outputs": [],
   "source": [
    "from keras.models import Sequential\n",
    "from keras.layers.core import Dense, Activation\n",
    "from tensorflow.keras.optimizers import Adam\n",
    "\n",
    "def nn_model(no_neurons, learning_rate, kernel='relu'):\n",
    "    model = Sequential()\n",
    "    model.add(Dense(no_neurons, input_dim=X_train.shape[1]))\n",
    "    model.add(Activation(kernel))\n",
    "    \n",
    "    model.add(Dense(no_neurons))\n",
    "    model.add(Activation(kernel))\n",
    "    \n",
    "    model.add(Dense(1))\n",
    "    model.add(Activation('sigmoid'))\n",
    "    \n",
    "    model.compile(optimizer=Adam(lr=learning_rate), loss='mean_squared_error', metrics=['mean_squared_error'])\n",
    "    \n",
    "    return model"
   ]
  },
  {
   "cell_type": "code",
   "execution_count": 8,
   "id": "f045e04a",
   "metadata": {},
   "outputs": [],
   "source": [
    "import warnings\n",
    "warnings.simplefilter('ignore')"
   ]
  },
  {
   "cell_type": "code",
   "execution_count": 10,
   "id": "62ad06aa",
   "metadata": {},
   "outputs": [
    {
     "name": "stdout",
     "output_type": "stream",
     "text": [
      "Mean RMSE (+/- standard deviation), for parameters\n",
      "144.586 (+/- 29.347) for {'epochs': 5, 'kernel': 'relu', 'learning_rate': 0.0001, 'no_neurons': 5, 'verbose': 0}\n",
      "143.129 (+/- 27.839) for {'epochs': 5, 'kernel': 'relu', 'learning_rate': 0.0001, 'no_neurons': 20, 'verbose': 0}\n",
      "141.396 (+/- 31.294) for {'epochs': 5, 'kernel': 'relu', 'learning_rate': 0.01, 'no_neurons': 5, 'verbose': 0}\n",
      "141.396 (+/- 31.294) for {'epochs': 5, 'kernel': 'relu', 'learning_rate': 0.01, 'no_neurons': 20, 'verbose': 0}\n",
      "144.680 (+/- 29.990) for {'epochs': 5, 'kernel': 'linear', 'learning_rate': 0.0001, 'no_neurons': 5, 'verbose': 0}\n",
      "144.454 (+/- 29.283) for {'epochs': 5, 'kernel': 'linear', 'learning_rate': 0.0001, 'no_neurons': 20, 'verbose': 0}\n",
      "141.604 (+/- 31.169) for {'epochs': 5, 'kernel': 'linear', 'learning_rate': 0.01, 'no_neurons': 5, 'verbose': 0}\n",
      "141.396 (+/- 31.294) for {'epochs': 5, 'kernel': 'linear', 'learning_rate': 0.01, 'no_neurons': 20, 'verbose': 0}\n",
      "143.080 (+/- 28.869) for {'epochs': 10, 'kernel': 'relu', 'learning_rate': 0.0001, 'no_neurons': 5, 'verbose': 0}\n",
      "143.914 (+/- 31.941) for {'epochs': 10, 'kernel': 'relu', 'learning_rate': 0.0001, 'no_neurons': 20, 'verbose': 0}\n",
      "141.396 (+/- 31.294) for {'epochs': 10, 'kernel': 'relu', 'learning_rate': 0.01, 'no_neurons': 5, 'verbose': 0}\n",
      "141.396 (+/- 31.294) for {'epochs': 10, 'kernel': 'relu', 'learning_rate': 0.01, 'no_neurons': 20, 'verbose': 0}\n",
      "145.302 (+/- 29.716) for {'epochs': 10, 'kernel': 'linear', 'learning_rate': 0.0001, 'no_neurons': 5, 'verbose': 0}\n",
      "144.556 (+/- 31.292) for {'epochs': 10, 'kernel': 'linear', 'learning_rate': 0.0001, 'no_neurons': 20, 'verbose': 0}\n",
      "141.396 (+/- 31.294) for {'epochs': 10, 'kernel': 'linear', 'learning_rate': 0.01, 'no_neurons': 5, 'verbose': 0}\n",
      "141.396 (+/- 31.294) for {'epochs': 10, 'kernel': 'linear', 'learning_rate': 0.01, 'no_neurons': 20, 'verbose': 0}\n"
     ]
    }
   ],
   "source": [
    "from keras.wrappers.scikit_learn import KerasClassifier\n",
    "from sklearn.model_selection import GridSearchCV\n",
    "\n",
    "parameters = {'no_neurons': [5,20], 'kernel':['relu', 'linear'], 'learning_rate':[0.0001,0.01], 'epochs':[5,10], 'verbose':[0]}\n",
    "\n",
    "grid_search = GridSearchCV(KerasClassifier(nn_model), parameters, cv=5, scoring='neg_mean_squared_error')\n",
    "grid_search.fit(X_train, y_train.values.ravel())\n",
    "\n",
    "means = grid_search.cv_results_['mean_test_score']\n",
    "stds = grid_search.cv_results_['std_test_score']\n",
    "\n",
    "print('Mean RMSE (+/- standard deviation), for parameters')\n",
    "for mean, std, params in zip(means, stds, grid_search.cv_results_['params']):\n",
    "    print('%0.3f (+/- %0.03f) for %r'\n",
    "         %(np.sqrt(-1*mean), np.sqrt(std), params))"
   ]
  },
  {
   "cell_type": "code",
   "execution_count": null,
   "id": "e7240f29",
   "metadata": {},
   "outputs": [],
   "source": []
  }
 ],
 "metadata": {
  "kernelspec": {
   "display_name": "Python 3",
   "language": "python",
   "name": "python3"
  },
  "language_info": {
   "codemirror_mode": {
    "name": "ipython",
    "version": 3
   },
   "file_extension": ".py",
   "mimetype": "text/x-python",
   "name": "python",
   "nbconvert_exporter": "python",
   "pygments_lexer": "ipython3",
   "version": "3.8.5"
  }
 },
 "nbformat": 4,
 "nbformat_minor": 5
}
