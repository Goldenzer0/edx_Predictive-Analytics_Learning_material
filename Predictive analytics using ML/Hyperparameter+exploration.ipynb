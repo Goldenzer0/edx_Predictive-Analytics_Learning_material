{
 "cells": [
  {
   "cell_type": "markdown",
   "metadata": {},
   "source": [
    "# Hyperparameter exploration"
   ]
  },
  {
   "cell_type": "markdown",
   "metadata": {},
   "source": [
    "We are now going to model the circles dataset again and see how, not only the kernel, but all hyperparameters, affect our outcome."
   ]
  },
  {
   "cell_type": "markdown",
   "metadata": {},
   "source": [
    "## Dataset"
   ]
  },
  {
   "cell_type": "code",
   "execution_count": 23,
   "metadata": {},
   "outputs": [
    {
     "data": {
      "image/png": "[encoded data removed]",
      "text/plain": [
       "<Figure size 432x288 with 1 Axes>"
      ]
     },
     "metadata": {
      "needs_background": "light"
     },
     "output_type": "display_data"
    }
   ],
   "source": [
    "import pandas as pd\n",
    "import numpy as np\n",
    "from sklearn.datasets import make_circles\n",
    "import matplotlib.pyplot as plt\n",
    "\n",
    "X, y = make_circles(n_samples=200, noise=0.05)\n",
    "\n",
    "df = pd.DataFrame(dict(x=X[:,0], y=X[:,1], label=y))\n",
    "colors = {0:'red', 1:'blue'}\n",
    "\n",
    "fig, ax = plt.subplots()\n",
    "grouped = df.groupby('label')\n",
    "for key, group in grouped:\n",
    "    group.plot(ax=ax, kind='scatter', x='x', y='y', label=key, color=colors[key])\n",
    "plt.show()"
   ]
  },
  {
   "cell_type": "markdown",
   "metadata": {},
   "source": [
    "## MLP"
   ]
  },
  {
   "cell_type": "markdown",
   "metadata": {},
   "source": [
    "Let's start by creating our training and test sets again:"
   ]
  },
  {
   "cell_type": "code",
   "execution_count": 2,
   "metadata": {},
   "outputs": [],
   "source": [
    "from sklearn.model_selection import train_test_split\n",
    "from sklearn.metrics import accuracy_score, roc_auc_score\n",
    "\n",
    "X_train, X_test, y_train, y_test = train_test_split(X, y, test_size = 0.3)"
   ]
  },
  {
   "cell_type": "markdown",
   "metadata": {},
   "source": [
    "Now, let's run the same model with linear kernel, as before:"
   ]
  },
  {
   "cell_type": "code",
   "execution_count": 5,
   "metadata": {},
   "outputs": [
    {
     "name": "stdout",
     "output_type": "stream",
     "text": [
      "Model: \"sequential_2\"\n",
      "_________________________________________________________________\n",
      "Layer (type)                 Output Shape              Param #   \n",
      "=================================================================\n",
      "dense_6 (Dense)              (None, 50)                150       \n",
      "_________________________________________________________________\n",
      "activation_6 (Activation)    (None, 50)                0         \n",
      "_________________________________________________________________\n",
      "dense_7 (Dense)              (None, 50)                2550      \n",
      "_________________________________________________________________\n",
      "activation_7 (Activation)    (None, 50)                0         \n",
      "_________________________________________________________________\n",
      "dense_8 (Dense)              (None, 1)                 51        \n",
      "_________________________________________________________________\n",
      "activation_8 (Activation)    (None, 1)                 0         \n",
      "=================================================================\n",
      "Total params: 2,751\n",
      "Trainable params: 2,751\n",
      "Non-trainable params: 0\n",
      "_________________________________________________________________\n",
      "Epoch 1/10\n",
      "5/5 [==============================] - 1s 3ms/step - loss: 0.6927 - accuracy: 0.5214\n",
      "Epoch 2/10\n",
      "5/5 [==============================] - 0s 4ms/step - loss: 0.6927 - accuracy: 0.5071\n",
      "Epoch 3/10\n",
      "5/5 [==============================] - 0s 4ms/step - loss: 0.6925 - accuracy: 0.5214\n",
      "Epoch 4/10\n",
      "5/5 [==============================] - 0s 4ms/step - loss: 0.6923 - accuracy: 0.5286\n",
      "Epoch 5/10\n",
      "5/5 [==============================] - 0s 4ms/step - loss: 0.6922 - accuracy: 0.5286\n",
      "Epoch 6/10\n",
      "5/5 [==============================] - 0s 4ms/step - loss: 0.6917 - accuracy: 0.5357\n",
      "Epoch 7/10\n",
      "5/5 [==============================] - 0s 4ms/step - loss: 0.6916 - accuracy: 0.5286\n",
      "Epoch 8/10\n",
      "5/5 [==============================] - 0s 4ms/step - loss: 0.6915 - accuracy: 0.5286\n",
      "Epoch 9/10\n",
      "5/5 [==============================] - 0s 4ms/step - loss: 0.6915 - accuracy: 0.5286\n",
      "Epoch 10/10\n",
      "5/5 [==============================] - 0s 4ms/step - loss: 0.6912 - accuracy: 0.5286\n",
      "Accuracy: 0.5\n",
      "AUC: 0.40888888888888886\n"
     ]
    }
   ],
   "source": [
    "from tensorflow.keras.models import Sequential\n",
    "from keras.layers.core import Dense, Activation\n",
    "\n",
    "input_dim = X_train.shape[1]\n",
    "output_dim = 1\n",
    "\n",
    "model = Sequential()\n",
    "model.add(Dense(50,input_dim=input_dim))\n",
    "model.add(Activation('linear'))\n",
    "model.add(Dense(50))\n",
    "model.add(Activation('linear'))\n",
    "model.add(Dense(output_dim))\n",
    "model.add(Activation('sigmoid'))\n",
    "model.compile(optimizer='sgd',loss='binary_crossentropy',metrics=['accuracy'])\n",
    "\n",
    "model.summary()\n",
    "\n",
    "model.fit(X_train,y_train,epochs=10)\n",
    "\n",
    "\n",
    "prediction_prob = model.predict(X_test)\n",
    "prediction_class = np.argmax(prediction_prob,axis=1)\n",
    "\n",
    "print('Accuracy:', accuracy_score(y_test,prediction_class))\n",
    "print('AUC:',roc_auc_score(y_test,prediction_prob))"
   ]
  },
  {
   "cell_type": "markdown",
   "metadata": {},
   "source": [
    "That's not very good is it? We knew this was coming from playing around in the TensorFlow playground and our earlier experiments. We can also visualise the result:"
   ]
  },
  {
   "cell_type": "code",
   "execution_count": 15,
   "metadata": {},
   "outputs": [
    {
     "data": {
      "text/plain": [
       "array([0, 0, 0, 0, 0, 0, 0, 0, 0, 0, 0, 0, 0, 0, 0, 0, 0, 0, 0, 0, 0, 0,\n",
       "       0, 0, 0, 0, 0, 0, 0, 0, 0, 0, 0, 0, 0, 0, 0, 0, 0, 0, 0, 0, 0, 0,\n",
       "       0, 0, 0, 0, 0, 0, 0, 0, 0, 0, 0, 0, 0, 0, 0, 0], dtype=int64)"
      ]
     },
     "execution_count": 15,
     "metadata": {},
     "output_type": "execute_result"
    }
   ],
   "source": [
    "prediction_prob.argmax(axis=1)"
   ]
  },
  {
   "cell_type": "code",
   "execution_count": 17,
   "metadata": {},
   "outputs": [
    {
     "data": {
      "image/png": "[encoded data removed]",
      "text/plain": [
       "<Figure size 432x288 with 1 Axes>"
      ]
     },
     "metadata": {
      "needs_background": "light"
     },
     "output_type": "display_data"
    }
   ],
   "source": [
    "df = pd.DataFrame(dict(x=X_test[:,0], y=X_test[:,1], label=prediction_class))\n",
    "colors = {0:'red', 1:'blue'}\n",
    "\n",
    "fig, ax = plt.subplots()\n",
    "grouped = df.groupby('label')\n",
    "for key, group in grouped:\n",
    "    group.plot(ax=ax, kind='scatter', x='x', y='y', label=key, color=colors[key])\n",
    "plt.show()"
   ]
  },
  {
   "cell_type": "markdown",
   "metadata": {},
   "source": [
    "The linear kernel is clearly not suitable. Let's try something different:"
   ]
  },
  {
   "cell_type": "markdown",
   "metadata": {},
   "source": [
    "## Different hyperparameters"
   ]
  },
  {
   "cell_type": "markdown",
   "metadata": {},
   "source": [
    "Let's explore a range of hyperparameters. More specifically, we will focus on:\n",
    "- Activation function\n",
    "- Number of neurons in a hidden layer\n",
    "- Number of layers\n",
    "- Learning rate\n",
    "- Number of epochs"
   ]
  },
  {
   "cell_type": "code",
   "execution_count": 19,
   "metadata": {},
   "outputs": [],
   "source": [
    "from keras.wrappers.scikit_learn import KerasClassifier\n",
    "from sklearn.model_selection import GridSearchCV\n",
    "from tensorflow.keras.optimizers import Adam\n",
    "\n",
    "def nn_grid_search(parameters,n_folds,X_train,y_train):\n",
    "    \n",
    "    # First, create the neural network model\n",
    "    def nn_model(kernel,no_neurons,learning_rate,epochs,no_layers):\n",
    "        model = Sequential()\n",
    "        model.add(Dense(no_neurons,input_dim=X_train.shape[1]))\n",
    "        model.add(Activation(kernel))\n",
    "\n",
    "        # Extra hidden layers\n",
    "        for _ in range(0,no_layers):\n",
    "            model.add(Dense(no_neurons))\n",
    "            model.add(Activation(kernel))\n",
    "\n",
    "        # Output\n",
    "        model.add(Dense(1))\n",
    "        model.add(Activation('sigmoid'))\n",
    "        model.compile(optimizer=Adam(lr=learning_rate),loss='binary_crossentropy',metrics=['accuracy'])\n",
    "        \n",
    "        return model\n",
    "    \n",
    "    # Next, apply the grid search using the parameters for your neural network model\n",
    "    grid_search = GridSearchCV(KerasClassifier(nn_model), parameters, cv=n_folds,scoring='roc_auc')\n",
    "       \n",
    "    # Fit the data\n",
    "    grid_search.fit(X_train, y_train.ravel())\n",
    "    \n",
    "    means = grid_search.cv_results_['mean_test_score']\n",
    "    stds = grid_search.cv_results_['std_test_score']\n",
    "    params = grid_search.cv_results_['params']\n",
    "    \n",
    "    return means, stds, params"
   ]
  },
  {
   "cell_type": "markdown",
   "metadata": {},
   "source": [
    "Next, we run the grid search:"
   ]
  },
  {
   "cell_type": "code",
   "execution_count": 21,
   "metadata": {},
   "outputs": [],
   "source": [
    "import warnings\n",
    "warnings.simplefilter('ignore')"
   ]
  },
  {
   "cell_type": "code",
   "execution_count": 22,
   "metadata": {},
   "outputs": [
    {
     "name": "stdout",
     "output_type": "stream",
     "text": [
      "Mean AUC (+/- standard deviation), for parameters\n",
      "0.562 (+/- 0.143) for {'epochs': 5, 'kernel': 'relu', 'learning_rate': 0.1, 'no_layers': 1, 'no_neurons': 10, 'verbose': 0}\n",
      "0.593 (+/- 0.110) for {'epochs': 5, 'kernel': 'relu', 'learning_rate': 0.1, 'no_layers': 1, 'no_neurons': 20, 'verbose': 0}\n",
      "0.517 (+/- 0.088) for {'epochs': 5, 'kernel': 'relu', 'learning_rate': 0.1, 'no_layers': 2, 'no_neurons': 10, 'verbose': 0}\n",
      "0.608 (+/- 0.119) for {'epochs': 5, 'kernel': 'relu', 'learning_rate': 0.1, 'no_layers': 2, 'no_neurons': 20, 'verbose': 0}\n",
      "0.506 (+/- 0.054) for {'epochs': 5, 'kernel': 'relu', 'learning_rate': 0.01, 'no_layers': 1, 'no_neurons': 10, 'verbose': 0}\n",
      "0.562 (+/- 0.082) for {'epochs': 5, 'kernel': 'relu', 'learning_rate': 0.01, 'no_layers': 1, 'no_neurons': 20, 'verbose': 0}\n",
      "0.558 (+/- 0.066) for {'epochs': 5, 'kernel': 'relu', 'learning_rate': 0.01, 'no_layers': 2, 'no_neurons': 10, 'verbose': 0}\n",
      "0.548 (+/- 0.144) for {'epochs': 5, 'kernel': 'relu', 'learning_rate': 0.01, 'no_layers': 2, 'no_neurons': 20, 'verbose': 0}\n",
      "0.519 (+/- 0.133) for {'epochs': 5, 'kernel': 'relu', 'learning_rate': 0.001, 'no_layers': 1, 'no_neurons': 10, 'verbose': 0}\n",
      "0.474 (+/- 0.079) for {'epochs': 5, 'kernel': 'relu', 'learning_rate': 0.001, 'no_layers': 1, 'no_neurons': 20, 'verbose': 0}\n",
      "0.525 (+/- 0.113) for {'epochs': 5, 'kernel': 'relu', 'learning_rate': 0.001, 'no_layers': 2, 'no_neurons': 10, 'verbose': 0}\n",
      "0.419 (+/- 0.166) for {'epochs': 5, 'kernel': 'relu', 'learning_rate': 0.001, 'no_layers': 2, 'no_neurons': 20, 'verbose': 0}\n",
      "0.467 (+/- 0.076) for {'epochs': 5, 'kernel': 'linear', 'learning_rate': 0.1, 'no_layers': 1, 'no_neurons': 10, 'verbose': 0}\n",
      "0.465 (+/- 0.116) for {'epochs': 5, 'kernel': 'linear', 'learning_rate': 0.1, 'no_layers': 1, 'no_neurons': 20, 'verbose': 0}\n",
      "0.471 (+/- 0.058) for {'epochs': 5, 'kernel': 'linear', 'learning_rate': 0.1, 'no_layers': 2, 'no_neurons': 10, 'verbose': 0}\n",
      "0.435 (+/- 0.049) for {'epochs': 5, 'kernel': 'linear', 'learning_rate': 0.1, 'no_layers': 2, 'no_neurons': 20, 'verbose': 0}\n",
      "0.443 (+/- 0.062) for {'epochs': 5, 'kernel': 'linear', 'learning_rate': 0.01, 'no_layers': 1, 'no_neurons': 10, 'verbose': 0}\n",
      "0.458 (+/- 0.065) for {'epochs': 5, 'kernel': 'linear', 'learning_rate': 0.01, 'no_layers': 1, 'no_neurons': 20, 'verbose': 0}\n",
      "0.460 (+/- 0.066) for {'epochs': 5, 'kernel': 'linear', 'learning_rate': 0.01, 'no_layers': 2, 'no_neurons': 10, 'verbose': 0}\n",
      "0.468 (+/- 0.113) for {'epochs': 5, 'kernel': 'linear', 'learning_rate': 0.01, 'no_layers': 2, 'no_neurons': 20, 'verbose': 0}\n",
      "0.519 (+/- 0.103) for {'epochs': 5, 'kernel': 'linear', 'learning_rate': 0.001, 'no_layers': 1, 'no_neurons': 10, 'verbose': 0}\n",
      "0.410 (+/- 0.091) for {'epochs': 5, 'kernel': 'linear', 'learning_rate': 0.001, 'no_layers': 1, 'no_neurons': 20, 'verbose': 0}\n",
      "0.468 (+/- 0.095) for {'epochs': 5, 'kernel': 'linear', 'learning_rate': 0.001, 'no_layers': 2, 'no_neurons': 10, 'verbose': 0}\n",
      "0.415 (+/- 0.063) for {'epochs': 5, 'kernel': 'linear', 'learning_rate': 0.001, 'no_layers': 2, 'no_neurons': 20, 'verbose': 0}\n",
      "0.813 (+/- 0.079) for {'epochs': 10, 'kernel': 'relu', 'learning_rate': 0.1, 'no_layers': 1, 'no_neurons': 10, 'verbose': 0}\n",
      "0.750 (+/- 0.085) for {'epochs': 10, 'kernel': 'relu', 'learning_rate': 0.1, 'no_layers': 1, 'no_neurons': 20, 'verbose': 0}\n",
      "0.582 (+/- 0.129) for {'epochs': 10, 'kernel': 'relu', 'learning_rate': 0.1, 'no_layers': 2, 'no_neurons': 10, 'verbose': 0}\n",
      "0.648 (+/- 0.141) for {'epochs': 10, 'kernel': 'relu', 'learning_rate': 0.1, 'no_layers': 2, 'no_neurons': 20, 'verbose': 0}\n",
      "0.538 (+/- 0.097) for {'epochs': 10, 'kernel': 'relu', 'learning_rate': 0.01, 'no_layers': 1, 'no_neurons': 10, 'verbose': 0}\n",
      "0.608 (+/- 0.103) for {'epochs': 10, 'kernel': 'relu', 'learning_rate': 0.01, 'no_layers': 1, 'no_neurons': 20, 'verbose': 0}\n",
      "0.612 (+/- 0.133) for {'epochs': 10, 'kernel': 'relu', 'learning_rate': 0.01, 'no_layers': 2, 'no_neurons': 10, 'verbose': 0}\n",
      "0.678 (+/- 0.131) for {'epochs': 10, 'kernel': 'relu', 'learning_rate': 0.01, 'no_layers': 2, 'no_neurons': 20, 'verbose': 0}\n",
      "0.538 (+/- 0.078) for {'epochs': 10, 'kernel': 'relu', 'learning_rate': 0.001, 'no_layers': 1, 'no_neurons': 10, 'verbose': 0}\n",
      "0.408 (+/- 0.087) for {'epochs': 10, 'kernel': 'relu', 'learning_rate': 0.001, 'no_layers': 1, 'no_neurons': 20, 'verbose': 0}\n",
      "0.445 (+/- 0.115) for {'epochs': 10, 'kernel': 'relu', 'learning_rate': 0.001, 'no_layers': 2, 'no_neurons': 10, 'verbose': 0}\n",
      "0.556 (+/- 0.163) for {'epochs': 10, 'kernel': 'relu', 'learning_rate': 0.001, 'no_layers': 2, 'no_neurons': 20, 'verbose': 0}\n",
      "0.503 (+/- 0.114) for {'epochs': 10, 'kernel': 'linear', 'learning_rate': 0.1, 'no_layers': 1, 'no_neurons': 10, 'verbose': 0}\n",
      "0.461 (+/- 0.071) for {'epochs': 10, 'kernel': 'linear', 'learning_rate': 0.1, 'no_layers': 1, 'no_neurons': 20, 'verbose': 0}\n",
      "0.443 (+/- 0.073) for {'epochs': 10, 'kernel': 'linear', 'learning_rate': 0.1, 'no_layers': 2, 'no_neurons': 10, 'verbose': 0}\n",
      "0.464 (+/- 0.081) for {'epochs': 10, 'kernel': 'linear', 'learning_rate': 0.1, 'no_layers': 2, 'no_neurons': 20, 'verbose': 0}\n",
      "0.466 (+/- 0.072) for {'epochs': 10, 'kernel': 'linear', 'learning_rate': 0.01, 'no_layers': 1, 'no_neurons': 10, 'verbose': 0}\n",
      "0.496 (+/- 0.054) for {'epochs': 10, 'kernel': 'linear', 'learning_rate': 0.01, 'no_layers': 1, 'no_neurons': 20, 'verbose': 0}\n",
      "0.468 (+/- 0.074) for {'epochs': 10, 'kernel': 'linear', 'learning_rate': 0.01, 'no_layers': 2, 'no_neurons': 10, 'verbose': 0}\n",
      "0.480 (+/- 0.063) for {'epochs': 10, 'kernel': 'linear', 'learning_rate': 0.01, 'no_layers': 2, 'no_neurons': 20, 'verbose': 0}\n",
      "0.587 (+/- 0.067) for {'epochs': 10, 'kernel': 'linear', 'learning_rate': 0.001, 'no_layers': 1, 'no_neurons': 10, 'verbose': 0}\n",
      "0.474 (+/- 0.039) for {'epochs': 10, 'kernel': 'linear', 'learning_rate': 0.001, 'no_layers': 1, 'no_neurons': 20, 'verbose': 0}\n",
      "0.521 (+/- 0.070) for {'epochs': 10, 'kernel': 'linear', 'learning_rate': 0.001, 'no_layers': 2, 'no_neurons': 10, 'verbose': 0}\n",
      "0.469 (+/- 0.068) for {'epochs': 10, 'kernel': 'linear', 'learning_rate': 0.001, 'no_layers': 2, 'no_neurons': 20, 'verbose': 0}\n"
     ]
    }
   ],
   "source": [
    "parameters = {'no_neurons':[10,20],'kernel':['relu','linear'],'no_layers':[1,2],'learning_rate':[0.1,0.01,0.001],'epochs':[5,10],'verbose':[0]} \n",
    "n_folds = 5\n",
    "\n",
    "means, stds, params = nn_grid_search(parameters,n_folds,X_train,y_train)\n",
    "\n",
    "print('Mean AUC (+/- standard deviation), for parameters')\n",
    "for mean, std, param_o in zip(means, stds, params):\n",
    "    print(\"%0.3f (+/- %0.03f) for %r\"\n",
    "          % (mean, std, param_o))"
   ]
  },
  {
   "cell_type": "markdown",
   "metadata": {},
   "source": [
    "Again, we see that the ReLU kernel clearly outperforms the linear one. Besides, we notice that the influence of epochs is apparent: results appear to be much more homogeneous over the various learning rates. \n",
    "\n",
    "The highest learning rate (0.1), however, tends to result in the highest AUC. The structure of the network (number of layers and number of neurons) seems to have little impact on the final results, although only one layer gets the best results.\n",
    "\n",
    "This shows how effective hyperparameter search can be in order to finetune your neural network."
   ]
  }
 ],
 "metadata": {
  "kernelspec": {
   "display_name": "Python 3",
   "language": "python",
   "name": "python3"
  },
  "language_info": {
   "codemirror_mode": {
    "name": "ipython",
    "version": 3
   },
   "file_extension": ".py",
   "mimetype": "text/x-python",
   "name": "python",
   "nbconvert_exporter": "python",
   "pygments_lexer": "ipython3",
   "version": "3.8.5"
  }
 },
 "nbformat": 4,
 "nbformat_minor": 2
}
