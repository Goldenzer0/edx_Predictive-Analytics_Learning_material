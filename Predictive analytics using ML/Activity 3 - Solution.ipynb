{
 "cells": [
  {
   "cell_type": "markdown",
   "metadata": {},
   "source": [
    "# Activity 3: Solution"
   ]
  },
  {
   "cell_type": "markdown",
   "metadata": {},
   "source": [
    "You are now going to use the circular dataset we used in the TensorFlow playground and see what the effect of different kernels is on the outcome of the neural network."
   ]
  },
  {
   "cell_type": "markdown",
   "metadata": {},
   "source": [
    "## Dataset - circles"
   ]
  },
  {
   "cell_type": "code",
   "execution_count": 1,
   "metadata": {},
   "outputs": [
    {
     "data": {
      "image/png": "[encoded data removed]",
      "text/plain": [
       "<Figure size 432x288 with 1 Axes>"
      ]
     },
     "metadata": {},
     "output_type": "display_data"
    }
   ],
   "source": [
    "import pandas as pd\n",
    "import numpy as np\n",
    "from sklearn.datasets import make_circles, make_checkerboard\n",
    "import matplotlib.pyplot as plt\n",
    "\n",
    "# scikit-learn offers a method to create a similar dataset\n",
    "X, y = make_circles(n_samples=1000, noise=0.05)\n",
    "\n",
    "df = pd.DataFrame(dict(x=X[:,0], y=X[:,1], label=y))\n",
    "colors = {0:'red', 1:'blue'}\n",
    "\n",
    "# Plotting the dataset\n",
    "fig, ax = plt.subplots()\n",
    "grouped = df.groupby('label')\n",
    "for key, group in grouped:\n",
    "    group.plot(ax=ax, kind='scatter', x='x', y='y', label=key, color=colors[key])\n",
    "plt.show()"
   ]
  },
  {
   "cell_type": "markdown",
   "metadata": {},
   "source": [
    "We create a training and test set:"
   ]
  },
  {
   "cell_type": "code",
   "execution_count": 2,
   "metadata": {
    "collapsed": true
   },
   "outputs": [],
   "source": [
    "from sklearn.model_selection import train_test_split\n",
    "from sklearn.metrics import accuracy_score, roc_auc_score\n",
    "\n",
    "X_train, X_test, y_train, y_test = train_test_split(X, y, test_size = 0.3)"
   ]
  },
  {
   "cell_type": "markdown",
   "metadata": {},
   "source": [
    "## Linear kernel"
   ]
  },
  {
   "cell_type": "markdown",
   "metadata": {},
   "source": [
    "Now, we create a neural network with two hidden layers, and a linear kernel. Notice that we also run the algorithm 10 times so our results converge (more on this later):"
   ]
  },
  {
   "cell_type": "code",
   "execution_count": 3,
   "metadata": {},
   "outputs": [
    {
     "name": "stderr",
     "output_type": "stream",
     "text": [
      "Using TensorFlow backend.\n"
     ]
    },
    {
     "name": "stdout",
     "output_type": "stream",
     "text": [
      "_________________________________________________________________\n",
      "Layer (type)                 Output Shape              Param #   \n",
      "=================================================================\n",
      "dense_1 (Dense)              (None, 50)                150       \n",
      "_________________________________________________________________\n",
      "activation_1 (Activation)    (None, 50)                0         \n",
      "_________________________________________________________________\n",
      "dense_2 (Dense)              (None, 50)                2550      \n",
      "_________________________________________________________________\n",
      "activation_2 (Activation)    (None, 50)                0         \n",
      "_________________________________________________________________\n",
      "dense_3 (Dense)              (None, 1)                 51        \n",
      "_________________________________________________________________\n",
      "activation_3 (Activation)    (None, 1)                 0         \n",
      "=================================================================\n",
      "Total params: 2,751\n",
      "Trainable params: 2,751\n",
      "Non-trainable params: 0\n",
      "_________________________________________________________________\n",
      "Epoch 1/10\n",
      "700/700 [==============================] - 0s 327us/step - loss: 0.6975 - acc: 0.4743\n",
      "Epoch 2/10\n",
      "700/700 [==============================] - 0s 30us/step - loss: 0.6943 - acc: 0.5000\n",
      "Epoch 3/10\n",
      "700/700 [==============================] - 0s 31us/step - loss: 0.6956 - acc: 0.4843\n",
      "Epoch 4/10\n",
      "700/700 [==============================] - 0s 28us/step - loss: 0.6952 - acc: 0.5171\n",
      "Epoch 5/10\n",
      "700/700 [==============================] - 0s 28us/step - loss: 0.6941 - acc: 0.4814\n",
      "Epoch 6/10\n",
      "700/700 [==============================] - 0s 31us/step - loss: 0.6959 - acc: 0.4857\n",
      "Epoch 7/10\n",
      "700/700 [==============================] - 0s 31us/step - loss: 0.6942 - acc: 0.4943\n",
      "Epoch 8/10\n",
      "700/700 [==============================] - 0s 34us/step - loss: 0.6941 - acc: 0.4900\n",
      "Epoch 9/10\n",
      "700/700 [==============================] - 0s 34us/step - loss: 0.6952 - acc: 0.4571\n",
      "Epoch 10/10\n",
      "700/700 [==============================] - 0s 28us/step - loss: 0.6941 - acc: 0.4986\n",
      "Accuracy: 0.4766666666666667\n",
      "AUC: 0.47144317525223345\n"
     ]
    }
   ],
   "source": [
    "from keras.models import Sequential\n",
    "from keras.layers.core import Dense, Activation\n",
    "from keras.optimizers import Adam\n",
    "\n",
    "input_dim = X_train.shape[1]\n",
    "output_dim = 1\n",
    "\n",
    "model = Sequential()\n",
    "\n",
    "# Add the input layer and connect to 50 hidden neurons\n",
    "model.add(Dense(50,input_dim=input_dim))\n",
    "model.add(Activation('linear'))\n",
    "\n",
    "# Extra hidden layer can be added like this\n",
    "model.add(Dense(50))\n",
    "model.add(Activation('linear'))\n",
    "\n",
    "# Connect the previous layer to the output layer\n",
    "model.add(Dense(output_dim))\n",
    "\n",
    "# Add a final layer for classification based on the sigmoid function\n",
    "model.add(Activation('sigmoid'))\n",
    "\n",
    "# We use a different optimiser here instead of stochastic gradient descent\n",
    "# This is not important now\n",
    "model.compile(optimizer=Adam(),loss='binary_crossentropy',metrics=['accuracy'])\n",
    "model.summary()\n",
    "model.fit(X_train,y_train,epochs=10)\n",
    "prediction_class = model.predict_classes(X_test)\n",
    "prediction_prob = model.predict_proba(X_test)\n",
    "\n",
    "print('Accuracy:', accuracy_score(y_test,prediction_class))\n",
    "print('AUC:',roc_auc_score(y_test,prediction_prob))"
   ]
  },
  {
   "cell_type": "markdown",
   "metadata": {},
   "source": [
    "Clearly, the network is having a hard time coming up with good results. The linear kernel will just not be able to capture the shapes in the data adequately. Let's try a different kernel."
   ]
  },
  {
   "cell_type": "markdown",
   "metadata": {},
   "source": [
    "## ReLU kernel"
   ]
  },
  {
   "cell_type": "markdown",
   "metadata": {},
   "source": [
    "We can easily change the code above to use a different kernel. Now, replicate the previous network but with a rectified linear unit kernel (not in the output layer):"
   ]
  },
  {
   "cell_type": "code",
   "execution_count": 4,
   "metadata": {
    "collapsed": true
   },
   "outputs": [],
   "source": [
    "def nn_with_relu_kernel(input_dim,output_dim,X_train,y_train):\n",
    "    \n",
    "    model = Sequential()\n",
    "    model.add(Dense(50,input_dim=input_dim))\n",
    "    \n",
    "    # This is the only change:\n",
    "    model.add(Activation('relu'))\n",
    "\n",
    "    model.add(Dense(50))\n",
    "    \n",
    "    # This is the only change:\n",
    "    model.add(Activation('relu'))\n",
    "\n",
    "    model.add(Dense(output_dim))\n",
    "\n",
    "    model.add(Activation('sigmoid'))\n",
    "\n",
    "    model.compile(optimizer=Adam(),loss='binary_crossentropy',metrics=['accuracy'])\n",
    "    model.fit(X_train,y_train,epochs=10,verbose=0)\n",
    "    \n",
    "    return model"
   ]
  },
  {
   "cell_type": "code",
   "execution_count": 5,
   "metadata": {},
   "outputs": [
    {
     "name": "stdout",
     "output_type": "stream",
     "text": [
      "Accuracy: 0.7866666666666666\n",
      "AUC: 0.9323525490021779\n"
     ]
    }
   ],
   "source": [
    "model = nn_with_relu_kernel(X_train.shape[1],1,X_train,y_train)\n",
    "\n",
    "prediction_class = model.predict_classes(X_test)\n",
    "prediction_prob = model.predict_proba(X_test)\n",
    "\n",
    "print('Accuracy:', accuracy_score(y_test,prediction_class))\n",
    "print('AUC:',roc_auc_score(y_test,prediction_prob))"
   ]
  },
  {
   "cell_type": "markdown",
   "metadata": {},
   "source": [
    "That's not a bad result. You will notice that, when running the model multiple times, the result is not very stable. Nevertheless, the ReLU kernel will at least be able to break that 50% accuracy barrier that the linear kernel had because it can't predict the outcome and ends up in random guessing (or just drawing a straight line through the middle - which is the same in the case of the circles)."
   ]
  }
 ],
 "metadata": {
  "celltoolbar": "Create Assignment",
  "kernelspec": {
   "display_name": "Python 3",
   "language": "python",
   "name": "python3"
  },
  "language_info": {
   "codemirror_mode": {
    "name": "ipython",
    "version": 3
   },
   "file_extension": ".py",
   "mimetype": "text/x-python",
   "name": "python",
   "nbconvert_exporter": "python",
   "pygments_lexer": "ipython3",
   "version": "3.8.5"
  }
 },
 "nbformat": 4,
 "nbformat_minor": 2
}
