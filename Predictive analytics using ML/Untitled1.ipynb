{
 "cells": [
  {
   "cell_type": "code",
   "execution_count": 1,
   "id": "12794349",
   "metadata": {},
   "outputs": [
    {
     "data": {
      "image/png": "[encoded data removed]",
      "text/plain": [
       "<Figure size 432x288 with 1 Axes>"
      ]
     },
     "metadata": {
      "needs_background": "light"
     },
     "output_type": "display_data"
    }
   ],
   "source": [
    "import pandas as pd\n",
    "import numpy as np\n",
    "from sklearn.datasets import make_circles\n",
    "import matplotlib.pyplot as plt\n",
    "\n",
    "X, y = make_circles(n_samples=200, noise=0.05)\n",
    "\n",
    "df = pd.DataFrame(dict(x=X[:,0], y=X[:,1], label=y))\n",
    "colors = {0:'red', 1:'blue'}\n",
    "\n",
    "fig, ax = plt.subplots()\n",
    "grouped = df.groupby('label')\n",
    "for key, group in grouped:\n",
    "    group.plot(ax=ax, kind='scatter', x='x', y='y', label=key, color=colors[key])\n",
    "plt.show()"
   ]
  },
  {
   "cell_type": "code",
   "execution_count": 2,
   "id": "34dfd6b7",
   "metadata": {},
   "outputs": [],
   "source": [
    "from sklearn.model_selection import train_test_split\n",
    "from sklearn.metrics import accuracy_score, roc_auc_score\n",
    "\n",
    "X_train, X_test, y_train, y_test = train_test_split(X, y, test_size=0.3)"
   ]
  },
  {
   "cell_type": "code",
   "execution_count": 3,
   "id": "925ab569",
   "metadata": {},
   "outputs": [
    {
     "name": "stdout",
     "output_type": "stream",
     "text": [
      "Model: \"sequential\"\n",
      "_________________________________________________________________\n",
      "Layer (type)                 Output Shape              Param #   \n",
      "=================================================================\n",
      "dense (Dense)                (None, 50)                150       \n",
      "_________________________________________________________________\n",
      "activation (Activation)      (None, 50)                0         \n",
      "_________________________________________________________________\n",
      "dense_1 (Dense)              (None, 50)                2550      \n",
      "_________________________________________________________________\n",
      "activation_1 (Activation)    (None, 50)                0         \n",
      "_________________________________________________________________\n",
      "dense_2 (Dense)              (None, 1)                 51        \n",
      "_________________________________________________________________\n",
      "activation_2 (Activation)    (None, 1)                 0         \n",
      "=================================================================\n",
      "Total params: 2,751\n",
      "Trainable params: 2,751\n",
      "Non-trainable params: 0\n",
      "_________________________________________________________________\n",
      "Epoch 1/10\n",
      "5/5 [==============================] - 1s 3ms/step - loss: 0.6912 - accuracy: 0.5429\n",
      "Epoch 2/10\n",
      "5/5 [==============================] - 0s 3ms/step - loss: 0.6909 - accuracy: 0.5357\n",
      "Epoch 3/10\n",
      "5/5 [==============================] - 0s 3ms/step - loss: 0.6910 - accuracy: 0.5357\n",
      "Epoch 4/10\n",
      "5/5 [==============================] - 0s 3ms/step - loss: 0.6910 - accuracy: 0.5429\n",
      "Epoch 5/10\n",
      "5/5 [==============================] - 0s 4ms/step - loss: 0.6911 - accuracy: 0.5357\n",
      "Epoch 6/10\n",
      "5/5 [==============================] - 0s 3ms/step - loss: 0.6907 - accuracy: 0.5429\n",
      "Epoch 7/10\n",
      "5/5 [==============================] - 0s 3ms/step - loss: 0.6907 - accuracy: 0.5357\n",
      "Epoch 8/10\n",
      "5/5 [==============================] - 0s 3ms/step - loss: 0.6908 - accuracy: 0.5357\n",
      "Epoch 9/10\n",
      "5/5 [==============================] - 0s 4ms/step - loss: 0.6909 - accuracy: 0.5286\n",
      "Epoch 10/10\n",
      "5/5 [==============================] - 0s 3ms/step - loss: 0.6907 - accuracy: 0.5286\n",
      "Accuracy:  0.48333333333333334\n",
      "AUC:  0.43270300333704115\n"
     ]
    }
   ],
   "source": [
    "from keras.models import Sequential\n",
    "from keras.layers.core import Dense, Activation\n",
    "\n",
    "input_dim = X_train.shape[1]\n",
    "output_dim = 1\n",
    "\n",
    "model = Sequential()\n",
    "model.add(Dense(50, input_dim=input_dim))\n",
    "model.add(Activation('linear'))\n",
    "model.add(Dense(50))\n",
    "model.add(Activation('linear'))\n",
    "model.add(Dense(output_dim))\n",
    "model.add(Activation('sigmoid'))\n",
    "model.compile(optimizer='sgd', loss='binary_crossentropy', metrics=['accuracy'])\n",
    "\n",
    "model.summary()\n",
    "model.fit(X_train, y_train, epochs=10)\n",
    "\n",
    "prediction_prob = model.predict(X_test)\n",
    "prediction_class = np.argmax(prediction_prob, axis=1)\n",
    "\n",
    "print('Accuracy: ', accuracy_score(y_test, prediction_class))\n",
    "print('AUC: ', roc_auc_score(y_test, prediction_prob))"
   ]
  },
  {
   "cell_type": "code",
   "execution_count": 4,
   "id": "79657436",
   "metadata": {},
   "outputs": [],
   "source": [
    "from keras.wrappers.scikit_learn import KerasClassifier\n",
    "from sklearn.model_selection import GridSearchCV\n",
    "from tensorflow.keras.optimizers import Adam\n",
    "\n",
    "def nn_grid_search(parameter, n_folds, X_train, y_train):\n",
    "    def nn_model(kernel, no_neurons, learning_rate, epochs, no_layers):\n",
    "        model = Sequential()\n",
    "        model.add(Dense(no_neurons, input_dim = X_train.shape[1]))\n",
    "        model.add(Activation(kernel))\n",
    "        for _ in range(0, no_layers):\n",
    "            model.add(Dense(no_neurons))\n",
    "            model.add(Activation(kernel))\n",
    "            \n",
    "        model.add(Dense(1))\n",
    "        model.add(Activation('sigmoid'))\n",
    "        model.compile(optimizer=Adam(lr=learning_rate), loss='binary_crossentropy', metrics=['accuracy'])\n",
    "        \n",
    "        return model\n",
    "    \n",
    "    grid_search = GridSearchCV(KerasClassifier(nn_model), parameters, cv=n_folds, scoring='roc_auc')\n",
    "    \n",
    "    grid_search.fit(X_train, y_train.ravel())\n",
    "    \n",
    "    means = grid_search.cv_results_['mean_test_score']\n",
    "    stds = grid_search.cv_results_['std_test_score']\n",
    "    params = grid_search.cv_resutls_['params']\n",
    "    \n",
    "    return means, stds, params"
   ]
  },
  {
   "cell_type": "code",
   "execution_count": null,
   "id": "9bad2bcf",
   "metadata": {},
   "outputs": [],
   "source": [
    "import warnings\n",
    "warnings.simplefilter('ignore')"
   ]
  },
  {
   "cell_type": "code",
   "execution_count": null,
   "id": "715c052f",
   "metadata": {},
   "outputs": [],
   "source": [
    "parameters = {'no_neurons':[10,20], 'kernel':['relu','linear'], 'no_layers':[1,2], 'learning_rate':[0.1, 0.01, 0.001],'epochs':[5,10], 'verbose':[0]}\n",
    "n_folds = 5\n",
    "\n",
    "means, stds, params = nn_grid_search(parameters,n_folds,X_train,y_train)\n",
    "\n",
    "print('Mean AUC (+/- standard deviation), for parameters')\n",
    "for mean, std, param_o in zip(means, stds, params):\n",
    "    print(\"%0.3f (+/- %0.03f) for %r\"\n",
    "          % (mean, std, param_o))"
   ]
  },
  {
   "cell_type": "code",
   "execution_count": null,
   "id": "e4b37487",
   "metadata": {},
   "outputs": [],
   "source": []
  }
 ],
 "metadata": {
  "kernelspec": {
   "display_name": "Python 3",
   "language": "python",
   "name": "python3"
  },
  "language_info": {
   "codemirror_mode": {
    "name": "ipython",
    "version": 3
   },
   "file_extension": ".py",
   "mimetype": "text/x-python",
   "name": "python",
   "nbconvert_exporter": "python",
   "pygments_lexer": "ipython3",
   "version": "3.8.5"
  }
 },
 "nbformat": 4,
 "nbformat_minor": 5
}
